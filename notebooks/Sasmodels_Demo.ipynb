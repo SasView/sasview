{
 "cells": [
  {
   "cell_type": "code",
   "execution_count": 33,
   "id": "7d08ece6-9de8-4c85-8188-eeac65adc7be",
   "metadata": {},
   "outputs": [],
   "source": [
    "import sys\n",
    "from sasmodels import core\n",
    "from sasmodels import direct_model\n",
    "from sasmodels.resolution import Resolution, Pinhole1D, Slit1D, romberg_pinhole_1d, romberg_slit_1d\n",
    "import matplotlib.pyplot as plt  # type: ignore\n",
    "import numpy as np\n"
   ]
  },
  {
   "cell_type": "code",
   "execution_count": null,
   "id": "2f47156b-38aa-4203-afb3-59ba57ae1297",
   "metadata": {},
   "outputs": [],
   "source": [
    "def apply_resolution_matrix(weight_matrix, theory):\n",
    "    \"\"\"\n",
    "    Apply the resolution weight matrix to the computed theory function.\n",
    "    \"\"\"\n",
    "    #print(\"apply shapes\", theory.shape, weight_matrix.shape)\n",
    "    Iq = np.dot(theory[None, :], weight_matrix)\n",
    "    #print(\"result shape\",Iq.shape)\n",
    "    return Iq.flatten()\n",
    "\n",
    "class Generic1D(Resolution):\n",
    "    \"\"\"\n",
    "    Generic resolution function using weighted matrix input\n",
    "    \"\"\"\n",
    "    def __init__(self, q):\n",
    "        self.q_calc = self.q = q\n",
    "        \n",
    "        #Load this from file/data\n",
    "        self.weight_matrix = load_from_file()\n",
    "        \n",
    "\n",
    "    def apply(self, theory):\n",
    "        return apply_resolution_matrix(self.weight_matrix, theory)"
   ]
  },
  {
   "cell_type": "code",
   "execution_count": null,
   "id": "150371ac-5387-4c24-92c2-032d381656f1",
   "metadata": {},
   "outputs": [],
   "source": []
  },
  {
   "cell_type": "code",
   "execution_count": 34,
   "id": "47273cc2-f5a1-4555-a508-4c2fc05691e5",
   "metadata": {},
   "outputs": [],
   "source": [
    "def _eval_demo_1d(resolution, name, title):\n",
    "\n",
    "    if name == 'cylinder':\n",
    "        pars = {'length':210, 'radius':500, 'background': 0}\n",
    "    elif name == 'teubner_strey':\n",
    "        pars = {'a2':0.003, 'c1':-1e4, 'c2':1e10, 'background':0.312643}\n",
    "    elif name in ('sphere', 'spherepy'):\n",
    "        pars = TEST_PARS_SLIT_SPHERE\n",
    "    elif name == 'ellipsoid':\n",
    "        pars = {\n",
    "            'scale':0.05, 'background': 0,\n",
    "            'r_polar':500, 'r_equatorial':15000,\n",
    "            'sld':6, 'sld_solvent': 1,\n",
    "            }\n",
    "    else:\n",
    "        pars = {}\n",
    "    model_info = core.load_model_info(name)\n",
    "    model = core.build_model(model_info)\n",
    "\n",
    "    kernel = model.make_kernel([resolution.q_calc])\n",
    "    theory = direct_model.call_kernel(kernel, pars)\n",
    "    Iq = resolution.apply(theory)\n",
    "\n",
    "    if isinstance(resolution, Slit1D):\n",
    "        width, height = resolution.qx_width, resolution.qy_width\n",
    "        Iq_romb = romberg_slit_1d(resolution.q, width, height, model, pars)\n",
    "    else:\n",
    "        dq = resolution.q_width\n",
    "        Iq_romb = romberg_pinhole_1d(resolution.q, dq, model, pars)\n",
    "\n",
    "   \n",
    "    plt.loglog(resolution.q_calc, theory, label='unsmeared')\n",
    "    plt.loglog(resolution.q, Iq, label='smeared')\n",
    "    plt.loglog(resolution.q, Iq_romb, label='romberg smeared')\n",
    "    plt.legend()\n",
    "    plt.title(title)\n",
    "    plt.xlabel(\"Q (1/Ang)\")\n",
    "    plt.ylabel(\"I(Q) (1/cm)\")"
   ]
  },
  {
   "cell_type": "code",
   "execution_count": 35,
   "id": "a55071e8-e4b6-42b9-9ba5-028174ab421a",
   "metadata": {},
   "outputs": [],
   "source": [
    "def demo_pinhole_1d(name):\n",
    "    \"\"\"\n",
    "    Show example of pinhole smearing.\n",
    "    \"\"\"\n",
    "    q = np.logspace(-4, np.log10(0.2), 400)\n",
    "    q_width = 0.1*q\n",
    "    resolution = Pinhole1D(q, q_width)\n",
    "    _eval_demo_1d(resolution, name, title=\"10% dQ/Q Pinhole Resolution\")\n",
    "\n",
    "def demo_slit_1d(name):\n",
    "    \"\"\"\n",
    "    Show example of slit smearing.\n",
    "    \"\"\"\n",
    "    q = np.logspace(-4, np.log10(0.2), 100)\n",
    "    w = h = 0.\n",
    "    #w = 0.000000277790\n",
    "    w = 0.0277790\n",
    "    #h = 0.00277790\n",
    "    #h = 0.0277790\n",
    "    resolution = Slit1D(q, w, h)\n",
    "    _eval_demo_1d(resolution, name, title=\"(%g,%g) Slit Resolution\"%(w, h))\n",
    "\n",
    "    \n",
    "def demo_generic_resolution(name):\n",
    "    \"\"\"\n",
    "    Show example of slit smearing.\n",
    "    \"\"\"\n",
    "    q = np.logspace(-4, np.log10(0.2), 100)\n",
    "    #De\n",
    "    resolution = Slit1D(q, w, h)\n",
    "    _eval_demo_1d(resolution, name, title=\"(%g,%g) Slit Resolution\"%(w, h))\n",
    "\n",
    "def demo(name):\n",
    "    \"\"\"\n",
    "    Run the resolution demos.\n",
    "    \"\"\"\n",
    "    plt.subplot(121)\n",
    "    demo_pinhole_1d(name)\n",
    "    #plt.yscale('linear')\n",
    "    plt.subplot(122)\n",
    "    demo_slit_1d(name)\n",
    "    #plt.yscale('linear')\n",
    "    plt.show()"
   ]
  },
  {
   "cell_type": "code",
   "execution_count": 36,
   "id": "1b80cd54-d208-46d8-9f77-575e6524096c",
   "metadata": {},
   "outputs": [
    {
     "data": {
      "image/png": "[encoded data removed]",
      "text/plain": [
       "<Figure size 432x288 with 2 Axes>"
      ]
     },
     "metadata": {
      "needs_background": "light"
     },
     "output_type": "display_data"
    }
   ],
   "source": [
    "name = 'cylinder'\n",
    "demo(name)"
   ]
  },
  {
   "cell_type": "code",
   "execution_count": null,
   "id": "ff1278c1-6efd-49ab-b4a8-666aae1b6b16",
   "metadata": {},
   "outputs": [],
   "source": []
  }
 ],
 "metadata": {
  "kernelspec": {
   "display_name": "Python 3 (ipykernel)",
   "language": "python",
   "name": "python3"
  },
  "language_info": {
   "codemirror_mode": {
    "name": "ipython",
    "version": 3
   },
   "file_extension": ".py",
   "mimetype": "text/x-python",
   "name": "python",
   "nbconvert_exporter": "python",
   "pygments_lexer": "ipython3",
   "version": "3.8.11"
  }
 },
 "nbformat": 4,
 "nbformat_minor": 5
}

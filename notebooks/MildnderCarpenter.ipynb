{
 "cells": [
  {
   "cell_type": "code",
   "execution_count": null,
   "id": "d8459aac-ae0a-4249-af35-5289e642cd24",
   "metadata": {},
   "outputs": [],
   "source": [
    "\n",
    "\n",
    "def q_resolution(wavelength_bins, moderator, data, q):\n",
    "    \n",
    "    l_collimation = 4.0*sc.units.m\n",
    "    r2 = 0.004*sc.units.m\n",
    "    r1 = 0.01*sc.units.m\n",
    "    dr = 0.008*sc.units.m\n",
    "    \n",
    "    d_lam = wavelength_bins['wavelength', 1:] - wavelength_bins['wavelength', :-1] # bin widths\n",
    "    lam = 0.5 * (wavelength_bins['wavelength', 1:] + wavelength_bins['wavelength', :-1]) # bin centres\n",
    "    l2 = scn.L2(data)\n",
    "    l1 = scn.L1(data)\n",
    "    \n",
    "    a1, a2, a3, wav_independent = get_wavelength_independent_factor(l2, l_collimation, r1, r2, dr)\n",
    "    \n",
    "    to_bin_edges(moderator, 'wavelength')\n",
    "    moderatorValue = sc.rebin(moderator, 'wavelength', wavelength_bins)\n",
    "    \n",
    "    dq_sq = get_sigma_q_value(data, d_lam, lam, wav_independent, moderatorValue, q, l1, l2)\n",
    "    \n",
    "    return a1, a2, a3, dq_sq \n",
    "\n"
   ]
  },
  {
   "cell_type": "code",
   "execution_count": null,
   "id": "d95288a7-9366-48d7-9e8c-e4ab601d0c6b",
   "metadata": {},
   "outputs": [],
   "source": [
    "\n",
    "\n",
    "def get_aperture_smearing(l2, l_collimation, r1, r2, dr):\n",
    "      \n",
    "    inv_l3 = (l_collimation + l2) / (l_collimation * l2)\n",
    "    \n",
    "    # Terms in Mildner and Carpenter equation.\n",
    "    # See https://docs.mantidproject.org/nightly/algorithms/TOFSANSResolutionByPixel-v1.html\n",
    "    a1 = (r1/l_collimation)*(r1/l_collimation) * 3.0\n",
    "    a2 = (r2*inv_l3)*(r2*inv_l3) * 3.0\n",
    "\n",
    "    aperture_smearing = (4.0 * sc.constants.pi / 12) * (a1 + a2) \n",
    "    return aperture_smearing\n",
    "\n"
   ]
  },
  {
   "cell_type": "code",
   "execution_count": null,
   "id": "192554fc-26b5-463c-8559-65b6352e19c0",
   "metadata": {},
   "outputs": [],
   "source": [
    "def get_detector_pixelation():\n",
    "    \n",
    "    a3 = (dr/l2) * (dr/l2) \n",
    "    return a3"
   ]
  },
  {
   "cell_type": "code",
   "execution_count": null,
   "id": "63dd7dc4-cf0a-4588-b3b3-ba7d51937c93",
   "metadata": {},
   "outputs": [],
   "source": [
    "\n",
    "\n",
    "def get_sigma_q_value(data, d_lam, lam, wav_independent, moderatorValue, q, l1, l2):\n",
    "\n",
    "     \n",
    "    #sigModerator = Moderator time spread (microseconds) as afunction of wavelength (Angstroms)\n",
    "    sig_moderator = moderatorValue * 3.9560 / (1000.0 * (l1 + l2));\n",
    "    sig_moderator.unit = sc.units.angstrom\n",
    "    \n",
    "    #TODO: replace with q from cooridnate transformations \n",
    "    theta = scn.two_theta(data) \n",
    "    q_sq = 4.0 * sc.constants.pi * sc.sin(0.5*theta) * sc.reciprocal(lam)\n",
    "    q_sq *= q_sq\n",
    "    \n",
    "    std_dev_lam_sq = q_sq \n",
    "    std_dev_lam_sq *= (d_lam * d_lam)/12 + sig_moderator * sig_moderator\n",
    "    std_dev_lam_sq *= sc.reciprocal(lam * lam)\n",
    "    \n",
    "    std_dev_lam_independent = sc.DataArray((wav_independent * sc.reciprocal(lam * lam) ),\n",
    "                    coords={'wavelength':std_dev_lam_sq.coords['wavelength']}) \n",
    "   \n",
    "    dq_sq = sc.sqrt(std_dev_lam_independent + std_dev_lam_sq)\n",
    "    return dq_sq   \n",
    "\n"
   ]
  },
  {
   "cell_type": "code",
   "execution_count": null,
   "id": "cc98eeed-fb8e-41c6-bf75-8a2faddb91e4",
   "metadata": {},
   "outputs": [],
   "source": [
    "path = 'SANS2D_data'\n",
    "moderator_file = 'ModeratorStdDev_TS2_SANS_LETexptl_07Aug2015.txt'\n",
    "moderator = loki.io.load_rkh_wav(filename=f'{path}/{moderator_file}')"
   ]
  },
  {
   "cell_type": "code",
   "execution_count": null,
   "id": "ff0e8a1e-bc69-45f9-8a63-c0c335bd8532",
   "metadata": {},
   "outputs": [],
   "source": [
    "l_collimation = 4.0*sc.units.m\n",
    "r2 = 0.004*sc.units.m\n",
    "r1 = 0.01*sc.units.m\n",
    "dr = 0.008*sc.units.m\n",
    "\n",
    "dq_sq = q_resolution(ds.coords['wavelength'], moderator, d, l_collimation, r1, r2, dr)\n",
    "\n"
   ]
  }
 ],
 "metadata": {
  "kernelspec": {
   "display_name": "Python 3 (ipykernel)",
   "language": "python",
   "name": "python3"
  },
  "language_info": {
   "codemirror_mode": {
    "name": "ipython",
    "version": 3
   },
   "file_extension": ".py",
   "mimetype": "text/x-python",
   "name": "python",
   "nbconvert_exporter": "python",
   "pygments_lexer": "ipython3",
   "version": "3.9.18"
  }
 },
 "nbformat": 4,
 "nbformat_minor": 5
}

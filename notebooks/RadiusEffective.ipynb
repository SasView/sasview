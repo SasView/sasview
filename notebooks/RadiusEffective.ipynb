{
 "cells": [
  {
   "cell_type": "code",
   "execution_count": 1,
   "id": "5f666b9e-e90c-46ad-a464-9ebe988e3206",
   "metadata": {},
   "outputs": [],
   "source": [
    "import numpy as np\n",
    "\n",
    "from bumps.names import *\n",
    "from sasmodels import direct_model\n",
    "from sasmodels.core import load_model\n",
    "from sasmodels.bumps_model import Model, Experiment\n",
    "from sasmodels.data import load_data, plot_data"
   ]
  },
  {
   "cell_type": "code",
   "execution_count": null,
   "id": "c1157cd5-78ae-4764-b13a-cf6d3ec496cd",
   "metadata": {},
   "outputs": [],
   "source": [
    "#Resolution call through direct model\n",
    "def execute_model(pars, resolution):\n",
    "    kernel = self.model.make_kernel([resolution.q_calc])\n",
    "    theory = direct_model.call_kernel(kernel, pars)\n",
    "    result = resolution.apply(theory)\n",
    "    kernel.release()\n",
    "    return result"
   ]
  },
  {
   "cell_type": "code",
   "execution_count": 2,
   "id": "0c2e8cb4-9a70-4d06-9ca0-a3152be077b8",
   "metadata": {},
   "outputs": [],
   "source": [
    "# IMPORT THE DATA USED\n",
    "data_file = 'P123_D2O_10_percent.xml'\n",
    "data = load_data(data_file)\n",
    "\n",
    "#setattr(data, 'qmin', 0.0)\n",
    "#setattr(data, 'qmax', 10.0)\n",
    "\n",
    "# DEFINE THE MODEL\n",
    "kernel = load_model('sphere@hayter_msa')\n",
    "\n",
    "pars = dict(scale=1, background=0.65, sld=1, sld_solvent=6, volfraction=0.075, charge=66.373, temperature=298.0,\n",
    "            concentration_salt=0.001, dielectconst=71.0)\n",
    "\n",
    "q, q_width = data.x, data.dx\n",
    "resolution = Pinhole1D(q, q_width)\n",
    "        \n",
    "model = Model(kernel, **pars)\n",
    "\n",
    "# PARAMETER RANGES (ONLY THOSE PARAMETERS ARE FITTED)\n",
    "model.scale.range(0, inf)\n",
    "model.background.range(-inf, inf)\n",
    "#model.sld.range(-inf, inf)\n",
    "model.sld_solvent.range(-inf, inf)\n",
    "#model.radius_polar.range(0, inf)\n",
    "#model.radius_equatorial.range(0, inf)\n",
    "#model.volfraction.range(0,0.74)\n",
    "#model.charge.range(0, inf)\n",
    "#model.temperature.range(0,1000)\n",
    "#model.concentration_salt.range(0, 1)\n",
    "#model.dielectconst.range(0,inf)\n",
    "\n",
    "M = Experiment(data=data, model=model)\n",
    "\n",
    "problem = FitProblem(M)"
   ]
  },
  {
   "cell_type": "code",
   "execution_count": null,
   "id": "e195b5fe-160f-4dd6-a9c5-9c70f837dffa",
   "metadata": {},
   "outputs": [],
   "source": []
  }
 ],
 "metadata": {
  "kernelspec": {
   "display_name": "Python 3 (ipykernel)",
   "language": "python",
   "name": "python3"
  },
  "language_info": {
   "codemirror_mode": {
    "name": "ipython",
    "version": 3
   },
   "file_extension": ".py",
   "mimetype": "text/x-python",
   "name": "python",
   "nbconvert_exporter": "python",
   "pygments_lexer": "ipython3",
   "version": "3.8.11"
  }
 },
 "nbformat": 4,
 "nbformat_minor": 5
}

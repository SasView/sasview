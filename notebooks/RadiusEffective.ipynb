{
 "cells": [
  {
   "cell_type": "code",
   "execution_count": 19,
   "id": "5f666b9e-e90c-46ad-a464-9ebe988e3206",
   "metadata": {},
   "outputs": [],
   "source": [
    "import numpy as np\n",
    "\n",
    "from bumps.names import *\n",
    "from sasmodels import direct_model\n",
    "from sasmodels.core import load_model\n",
    "from sasmodels.bumps_model import Model, Experiment\n",
    "from sasmodels.data import load_data, plot_data\n",
    "from sasmodels.resolution import Resolution, Pinhole1D\n",
    "\n",
    "import matplotlib.pyplot as plt"
   ]
  },
  {
   "cell_type": "code",
   "execution_count": 16,
   "id": "c1157cd5-78ae-4764-b13a-cf6d3ec496cd",
   "metadata": {},
   "outputs": [],
   "source": [
    "#Resolution call through direct model\n",
    "def execute_model(pars, resolution):\n",
    "    # DEFINE THE MODEL\n",
    "    model = load_model('sphere')\n",
    "    kernel = model.make_kernel([resolution.q_calc])\n",
    "    theory = direct_model.call_kernel(kernel, pars)\n",
    "    Iq = resolution.apply(theory)\n",
    "    #kernel.release()\n",
    "    return Iq"
   ]
  },
  {
   "cell_type": "code",
   "execution_count": 27,
   "id": "0c2e8cb4-9a70-4d06-9ca0-a3152be077b8",
   "metadata": {},
   "outputs": [],
   "source": [
    "# IMPORT THE DATA USED\n",
    "data_file = 'P123_D2O_10_percent.xml'\n",
    "data = load_data(data_file)\n",
    "\n",
    "pars = dict(scale=1, background=0.65, sld=1, sld_solvent=6) \n",
    "            #volfraction=0.075, charge=66.373, temperature=298.0,\n",
    "            #concentration_salt=0.001, dielectconst=71.0)\n",
    "\n",
    "q = data.x\n",
    "q_width = data.dx + 0.05 * q\n",
    "resolution = Pinhole1D(q, q_width)\n",
    "\n",
    "model = load_model('sphere')\n",
    "#model_setup = load_model('sphere')\n",
    "#resolutuion.q_calc is the same (at least in this case)\n",
    "kernel = model_setup.make_kernel([resolution.q_calc])\n",
    "theory = direct_model.call_kernel(kernel, pars)\n",
    "\n",
    "Iq = resolution.apply(theory)\n",
    "\n",
    "#kernel.release()"
   ]
  },
  {
   "cell_type": "code",
   "execution_count": 29,
   "id": "64b02aba-2641-475b-8501-5cdc2e7a8485",
   "metadata": {},
   "outputs": [
    {
     "data": {
      "text/plain": [
       "Text(0, 0.5, 'I(Q) (1/cm)')"
      ]
     },
     "execution_count": 29,
     "metadata": {},
     "output_type": "execute_result"
    },
    {
     "data": {
      "image/png": "[encoded data removed]",
      "text/plain": [
       "<Figure size 432x288 with 1 Axes>"
      ]
     },
     "metadata": {
      "needs_background": "light"
     },
     "output_type": "display_data"
    }
   ],
   "source": [
    "plt.loglog(resolution.q_calc, theory, label='unsmeared')\n",
    "plt.loglog(resolution.q, Iq, label='smeared')\n",
    "\n",
    "plt.legend()\n",
    "plt.xlabel(\"Q (1/Ang)\")\n",
    "plt.ylabel(\"I(Q) (1/cm)\")"
   ]
  },
  {
   "cell_type": "code",
   "execution_count": 13,
   "id": "7f8c08e7-f1d8-444d-af42-0ad7ef89752a",
   "metadata": {},
   "outputs": [
    {
     "data": {
      "text/plain": [
       "array([ True,  True,  True,  True,  True,  True,  True,  True,  True,\n",
       "        True,  True,  True,  True,  True,  True,  True,  True,  True,\n",
       "        True,  True,  True,  True,  True,  True,  True,  True,  True,\n",
       "        True,  True,  True,  True,  True,  True,  True,  True,  True,\n",
       "        True,  True,  True,  True,  True,  True,  True,  True,  True,\n",
       "        True,  True,  True,  True,  True,  True,  True,  True,  True,\n",
       "        True,  True,  True,  True,  True,  True,  True,  True,  True,\n",
       "        True,  True,  True,  True,  True,  True,  True,  True,  True,\n",
       "        True,  True,  True,  True,  True,  True,  True,  True,  True,\n",
       "        True,  True,  True,  True,  True,  True,  True,  True,  True,\n",
       "        True,  True,  True,  True,  True,  True,  True,  True,  True,\n",
       "        True,  True,  True,  True,  True,  True,  True,  True,  True,\n",
       "        True,  True,  True,  True,  True,  True,  True,  True,  True,\n",
       "        True,  True,  True,  True,  True,  True,  True])"
      ]
     },
     "execution_count": 13,
     "metadata": {},
     "output_type": "execute_result"
    }
   ],
   "source": [
    "np.equal(q, resolution.q_calc)"
   ]
  },
  {
   "cell_type": "code",
   "execution_count": 10,
   "id": "a3298de1-e961-4523-a008-669921c98eaf",
   "metadata": {},
   "outputs": [
    {
     "data": {
      "text/plain": [
       "array([0.009 , 0.011 , 0.013 , 0.015 , 0.017 , 0.019 , 0.021 , 0.023 ,\n",
       "       0.025 , 0.027 , 0.029 , 0.031 , 0.033 , 0.035 , 0.037 , 0.039 ,\n",
       "       0.041 , 0.043 , 0.045 , 0.047 , 0.049 , 0.051 , 0.053 , 0.055 ,\n",
       "       0.057 , 0.059 , 0.061 , 0.063 , 0.065 , 0.067 , 0.069 , 0.071 ,\n",
       "       0.073 , 0.075 , 0.077 , 0.079 , 0.081 , 0.083 , 0.085 , 0.087 ,\n",
       "       0.089 , 0.091 , 0.093 , 0.095 , 0.097 , 0.099 , 0.101 , 0.103 ,\n",
       "       0.105 , 0.107 , 0.109 , 0.111 , 0.113 , 0.115 , 0.117 , 0.119 ,\n",
       "       0.121 , 0.123 , 0.125 , 0.127 , 0.129 , 0.131 , 0.133 , 0.135 ,\n",
       "       0.137 , 0.139 , 0.141 , 0.143 , 0.145 , 0.147 , 0.149 , 0.151 ,\n",
       "       0.153 , 0.155 , 0.157 , 0.159 , 0.161 , 0.163 , 0.165 , 0.167 ,\n",
       "       0.169 , 0.171 , 0.173 , 0.175 , 0.177 , 0.179 , 0.181 , 0.183 ,\n",
       "       0.185 , 0.187 , 0.189 , 0.191 , 0.193 , 0.195 , 0.197 , 0.199 ,\n",
       "       0.201 , 0.203 , 0.205 , 0.207 , 0.209 , 0.211 , 0.213 , 0.215 ,\n",
       "       0.217 , 0.219 , 0.221 , 0.223 , 0.225 , 0.227 , 0.229 , 0.231 ,\n",
       "       0.233 , 0.235 , 0.237 , 0.239 , 0.241 , 0.243 , 0.245 , 0.247 ,\n",
       "       0.249 , 0.251 , 0.253 , 0.2545])"
      ]
     },
     "execution_count": 10,
     "metadata": {},
     "output_type": "execute_result"
    }
   ],
   "source": [
    "resolution.q_calc"
   ]
  },
  {
   "cell_type": "code",
   "execution_count": 18,
   "id": "9532697a-5ae1-4487-97fa-88be76aa1cfe",
   "metadata": {},
   "outputs": [
    {
     "ename": "AttributeError",
     "evalue": "'numpy.ndarray' object has no attribute 'scale'",
     "output_type": "error",
     "traceback": [
      "\u001b[0;31m---------------------------------------------------------------------------\u001b[0m",
      "\u001b[0;31mAttributeError\u001b[0m                            Traceback (most recent call last)",
      "\u001b[0;32m/var/folders/q3/5vy4nct93wg03ynnn836g49m0000gq/T/ipykernel_1224/3970650908.py\u001b[0m in \u001b[0;36m<module>\u001b[0;34m\u001b[0m\n\u001b[1;32m      1\u001b[0m \u001b[0;31m# PARAMETER RANGES (ONLY THOSE PARAMETERS ARE FITTED)\u001b[0m\u001b[0;34m\u001b[0m\u001b[0;34m\u001b[0m\u001b[0;34m\u001b[0m\u001b[0m\n\u001b[0;32m----> 2\u001b[0;31m \u001b[0mresult\u001b[0m\u001b[0;34m.\u001b[0m\u001b[0mscale\u001b[0m\u001b[0;34m.\u001b[0m\u001b[0mrange\u001b[0m\u001b[0;34m(\u001b[0m\u001b[0;36m0\u001b[0m\u001b[0;34m,\u001b[0m \u001b[0minf\u001b[0m\u001b[0;34m)\u001b[0m\u001b[0;34m\u001b[0m\u001b[0;34m\u001b[0m\u001b[0m\n\u001b[0m\u001b[1;32m      3\u001b[0m \u001b[0mmodel\u001b[0m\u001b[0;34m.\u001b[0m\u001b[0mbackground\u001b[0m\u001b[0;34m.\u001b[0m\u001b[0mrange\u001b[0m\u001b[0;34m(\u001b[0m\u001b[0;34m-\u001b[0m\u001b[0minf\u001b[0m\u001b[0;34m,\u001b[0m \u001b[0minf\u001b[0m\u001b[0;34m)\u001b[0m\u001b[0;34m\u001b[0m\u001b[0;34m\u001b[0m\u001b[0m\n\u001b[1;32m      4\u001b[0m \u001b[0;31m#model.sld.range(-inf, inf)\u001b[0m\u001b[0;34m\u001b[0m\u001b[0;34m\u001b[0m\u001b[0;34m\u001b[0m\u001b[0m\n\u001b[1;32m      5\u001b[0m \u001b[0mmodel\u001b[0m\u001b[0;34m.\u001b[0m\u001b[0msld_solvent\u001b[0m\u001b[0;34m.\u001b[0m\u001b[0mrange\u001b[0m\u001b[0;34m(\u001b[0m\u001b[0;34m-\u001b[0m\u001b[0minf\u001b[0m\u001b[0;34m,\u001b[0m \u001b[0minf\u001b[0m\u001b[0;34m)\u001b[0m\u001b[0;34m\u001b[0m\u001b[0;34m\u001b[0m\u001b[0m\n",
      "\u001b[0;31mAttributeError\u001b[0m: 'numpy.ndarray' object has no attribute 'scale'"
     ]
    }
   ],
   "source": [
    "# PARAMETER RANGES (ONLY THOSE PARAMETERS ARE FITTED)\n",
    "model.scale.range(0, inf)\n",
    "model.background.range(-inf, inf)\n",
    "#model.sld.range(-inf, inf)\n",
    "model.sld_solvent.range(-inf, inf)\n",
    "#model.radius_polar.range(0, inf)\n",
    "#model.radius_equatorial.range(0, inf)\n",
    "#model.volfraction.range(0,0.74)\n",
    "#model.charge.range(0, inf)\n",
    "#model.temperature.range(0,1000)\n",
    "#model.concentration_salt.range(0, 1)\n",
    "#model.dielectconst.range(0,inf)\n",
    "\n",
    "M = Experiment(data=data, model=model)\n",
    "\n",
    "problem = FitProblem(M)"
   ]
  },
  {
   "cell_type": "code",
   "execution_count": 13,
   "id": "e195b5fe-160f-4dd6-a9c5-9c70f837dffa",
   "metadata": {},
   "outputs": [
    {
     "ename": "AttributeError",
     "evalue": "'GpuKernel' object has no attribute 'make_kernel'",
     "output_type": "error",
     "traceback": [
      "\u001b[0;31m---------------------------------------------------------------------------\u001b[0m",
      "\u001b[0;31mAttributeError\u001b[0m                            Traceback (most recent call last)",
      "\u001b[0;32m/var/folders/q3/5vy4nct93wg03ynnn836g49m0000gq/T/ipykernel_1224/2628419852.py\u001b[0m in \u001b[0;36m<module>\u001b[0;34m\u001b[0m\n\u001b[1;32m      1\u001b[0m \u001b[0;31m#print(f\"Initial chisq {problem.chisq()}\")\u001b[0m\u001b[0;34m\u001b[0m\u001b[0;34m\u001b[0m\u001b[0;34m\u001b[0m\u001b[0m\n\u001b[0;32m----> 2\u001b[0;31m \u001b[0mproblem\u001b[0m\u001b[0;34m.\u001b[0m\u001b[0mplot\u001b[0m\u001b[0;34m(\u001b[0m\u001b[0;34m)\u001b[0m\u001b[0;34m\u001b[0m\u001b[0;34m\u001b[0m\u001b[0m\n\u001b[0m",
      "\u001b[0;32m~/opt/anaconda3/envs/sasview_pip/lib/python3.8/site-packages/bumps-0.8.1-py3.8.egg/bumps/fitproblem.py\u001b[0m in \u001b[0;36mplot\u001b[0;34m(self, p, fignum, figfile, view)\u001b[0m\n\u001b[1;32m    558\u001b[0m         \u001b[0;32mif\u001b[0m \u001b[0mp\u001b[0m \u001b[0;32mis\u001b[0m \u001b[0;32mnot\u001b[0m \u001b[0;32mNone\u001b[0m\u001b[0;34m:\u001b[0m\u001b[0;34m\u001b[0m\u001b[0;34m\u001b[0m\u001b[0m\n\u001b[1;32m    559\u001b[0m             \u001b[0mself\u001b[0m\u001b[0;34m.\u001b[0m\u001b[0msetp\u001b[0m\u001b[0;34m(\u001b[0m\u001b[0mp\u001b[0m\u001b[0;34m)\u001b[0m\u001b[0;34m\u001b[0m\u001b[0;34m\u001b[0m\u001b[0m\n\u001b[0;32m--> 560\u001b[0;31m         \u001b[0mself\u001b[0m\u001b[0;34m.\u001b[0m\u001b[0mfitness\u001b[0m\u001b[0;34m.\u001b[0m\u001b[0mplot\u001b[0m\u001b[0;34m(\u001b[0m\u001b[0mview\u001b[0m\u001b[0;34m=\u001b[0m\u001b[0mview\u001b[0m\u001b[0;34m)\u001b[0m\u001b[0;34m\u001b[0m\u001b[0;34m\u001b[0m\u001b[0m\n\u001b[0m\u001b[1;32m    561\u001b[0m         pylab.text(0.01, 0.01, 'chisq=%s' % self.chisq_str(),\n\u001b[1;32m    562\u001b[0m                    transform=pylab.gca().transAxes)\n",
      "\u001b[0;32m~/opt/anaconda3/envs/sasview_pip/lib/python3.8/site-packages/sasmodels-1.0.5-py3.8.egg/sasmodels/bumps_model.py\u001b[0m in \u001b[0;36mplot\u001b[0;34m(self, view)\u001b[0m\n\u001b[1;32m    262\u001b[0m         \u001b[0mPlot\u001b[0m \u001b[0mthe\u001b[0m \u001b[0mdata\u001b[0m \u001b[0;32mand\u001b[0m \u001b[0mresiduals\u001b[0m\u001b[0;34m.\u001b[0m\u001b[0;34m\u001b[0m\u001b[0;34m\u001b[0m\u001b[0m\n\u001b[1;32m    263\u001b[0m         \"\"\"\n\u001b[0;32m--> 264\u001b[0;31m         \u001b[0mdata\u001b[0m\u001b[0;34m,\u001b[0m \u001b[0mtheory\u001b[0m\u001b[0;34m,\u001b[0m \u001b[0mresid\u001b[0m \u001b[0;34m=\u001b[0m \u001b[0mself\u001b[0m\u001b[0;34m.\u001b[0m\u001b[0m_data\u001b[0m\u001b[0;34m,\u001b[0m \u001b[0mself\u001b[0m\u001b[0;34m.\u001b[0m\u001b[0mtheory\u001b[0m\u001b[0;34m(\u001b[0m\u001b[0;34m)\u001b[0m\u001b[0;34m,\u001b[0m \u001b[0mself\u001b[0m\u001b[0;34m.\u001b[0m\u001b[0mresiduals\u001b[0m\u001b[0;34m(\u001b[0m\u001b[0;34m)\u001b[0m\u001b[0;34m\u001b[0m\u001b[0;34m\u001b[0m\u001b[0m\n\u001b[0m\u001b[1;32m    265\u001b[0m         \u001b[0;31m# TODO: hack to display oriented usans 2-D pattern\u001b[0m\u001b[0;34m\u001b[0m\u001b[0;34m\u001b[0m\u001b[0;34m\u001b[0m\u001b[0m\n\u001b[1;32m    266\u001b[0m         \u001b[0mIq_calc\u001b[0m \u001b[0;34m=\u001b[0m \u001b[0mself\u001b[0m\u001b[0;34m.\u001b[0m\u001b[0mIq_calc\u001b[0m \u001b[0;32mif\u001b[0m \u001b[0misinstance\u001b[0m\u001b[0;34m(\u001b[0m\u001b[0mself\u001b[0m\u001b[0;34m.\u001b[0m\u001b[0mIq_calc\u001b[0m\u001b[0;34m,\u001b[0m \u001b[0mtuple\u001b[0m\u001b[0;34m)\u001b[0m \u001b[0;32melse\u001b[0m \u001b[0;32mNone\u001b[0m\u001b[0;34m\u001b[0m\u001b[0;34m\u001b[0m\u001b[0m\n",
      "\u001b[0;32m~/opt/anaconda3/envs/sasview_pip/lib/python3.8/site-packages/sasmodels-1.0.5-py3.8.egg/sasmodels/bumps_model.py\u001b[0m in \u001b[0;36mtheory\u001b[0;34m(self)\u001b[0m\n\u001b[1;32m    232\u001b[0m         \u001b[0;32mif\u001b[0m \u001b[0;34m'theory'\u001b[0m \u001b[0;32mnot\u001b[0m \u001b[0;32min\u001b[0m \u001b[0mself\u001b[0m\u001b[0;34m.\u001b[0m\u001b[0m_cache\u001b[0m\u001b[0;34m:\u001b[0m\u001b[0;34m\u001b[0m\u001b[0;34m\u001b[0m\u001b[0m\n\u001b[1;32m    233\u001b[0m             \u001b[0mpars\u001b[0m \u001b[0;34m=\u001b[0m \u001b[0mself\u001b[0m\u001b[0;34m.\u001b[0m\u001b[0mmodel\u001b[0m\u001b[0;34m.\u001b[0m\u001b[0mstate\u001b[0m\u001b[0;34m(\u001b[0m\u001b[0;34m)\u001b[0m\u001b[0;34m\u001b[0m\u001b[0;34m\u001b[0m\u001b[0m\n\u001b[0;32m--> 234\u001b[0;31m             \u001b[0mself\u001b[0m\u001b[0;34m.\u001b[0m\u001b[0m_cache\u001b[0m\u001b[0;34m[\u001b[0m\u001b[0;34m'theory'\u001b[0m\u001b[0;34m]\u001b[0m \u001b[0;34m=\u001b[0m \u001b[0mself\u001b[0m\u001b[0;34m.\u001b[0m\u001b[0m_calc_theory\u001b[0m\u001b[0;34m(\u001b[0m\u001b[0mpars\u001b[0m\u001b[0;34m,\u001b[0m \u001b[0mcutoff\u001b[0m\u001b[0;34m=\u001b[0m\u001b[0mself\u001b[0m\u001b[0;34m.\u001b[0m\u001b[0mcutoff\u001b[0m\u001b[0;34m)\u001b[0m\u001b[0;34m\u001b[0m\u001b[0;34m\u001b[0m\u001b[0m\n\u001b[0m\u001b[1;32m    235\u001b[0m         \u001b[0;32mreturn\u001b[0m \u001b[0mself\u001b[0m\u001b[0;34m.\u001b[0m\u001b[0m_cache\u001b[0m\u001b[0;34m[\u001b[0m\u001b[0;34m'theory'\u001b[0m\u001b[0;34m]\u001b[0m\u001b[0;34m\u001b[0m\u001b[0;34m\u001b[0m\u001b[0m\n\u001b[1;32m    236\u001b[0m \u001b[0;34m\u001b[0m\u001b[0m\n",
      "\u001b[0;32m~/opt/anaconda3/envs/sasview_pip/lib/python3.8/site-packages/sasmodels-1.0.5-py3.8.egg/sasmodels/direct_model.py\u001b[0m in \u001b[0;36m_calc_theory\u001b[0;34m(self, pars, cutoff)\u001b[0m\n\u001b[1;32m    327\u001b[0m             \u001b[0;32mif\u001b[0m \u001b[0misinstance\u001b[0m\u001b[0;34m(\u001b[0m\u001b[0mkernel_inputs\u001b[0m\u001b[0;34m,\u001b[0m \u001b[0mnp\u001b[0m\u001b[0;34m.\u001b[0m\u001b[0mndarray\u001b[0m\u001b[0;34m)\u001b[0m\u001b[0;34m:\u001b[0m\u001b[0;34m\u001b[0m\u001b[0;34m\u001b[0m\u001b[0m\n\u001b[1;32m    328\u001b[0m                 \u001b[0mkernel_inputs\u001b[0m \u001b[0;34m=\u001b[0m \u001b[0;34m(\u001b[0m\u001b[0mkernel_inputs\u001b[0m\u001b[0;34m,\u001b[0m\u001b[0;34m)\u001b[0m\u001b[0;34m\u001b[0m\u001b[0;34m\u001b[0m\u001b[0m\n\u001b[0;32m--> 329\u001b[0;31m             \u001b[0mself\u001b[0m\u001b[0;34m.\u001b[0m\u001b[0m_kernel\u001b[0m \u001b[0;34m=\u001b[0m \u001b[0mself\u001b[0m\u001b[0;34m.\u001b[0m\u001b[0m_model\u001b[0m\u001b[0;34m.\u001b[0m\u001b[0mmake_kernel\u001b[0m\u001b[0;34m(\u001b[0m\u001b[0mkernel_inputs\u001b[0m\u001b[0;34m)\u001b[0m\u001b[0;34m\u001b[0m\u001b[0;34m\u001b[0m\u001b[0m\n\u001b[0m\u001b[1;32m    330\u001b[0m \u001b[0;34m\u001b[0m\u001b[0m\n\u001b[1;32m    331\u001b[0m         \u001b[0;31m# Need to pull background out of resolution for multiple scattering\u001b[0m\u001b[0;34m\u001b[0m\u001b[0;34m\u001b[0m\u001b[0;34m\u001b[0m\u001b[0m\n",
      "\u001b[0;31mAttributeError\u001b[0m: 'GpuKernel' object has no attribute 'make_kernel'"
     ]
    }
   ],
   "source": [
    "#print(f\"Initial chisq {problem.chisq()}\")\n",
    "problem.plot()"
   ]
  },
  {
   "cell_type": "code",
   "execution_count": null,
   "id": "6b25e2bf-7c83-4c57-9a5d-89aa49c7f496",
   "metadata": {},
   "outputs": [],
   "source": []
  }
 ],
 "metadata": {
  "kernelspec": {
   "display_name": "Python 3 (ipykernel)",
   "language": "python",
   "name": "python3"
  },
  "language_info": {
   "codemirror_mode": {
    "name": "ipython",
    "version": 3
   },
   "file_extension": ".py",
   "mimetype": "text/x-python",
   "name": "python",
   "nbconvert_exporter": "python",
   "pygments_lexer": "ipython3",
   "version": "3.8.11"
  }
 },
 "nbformat": 4,
 "nbformat_minor": 5
}

{
 "cells": [
  {
   "cell_type": "markdown",
   "id": "173a9a01-1993-4b66-892a-301ffd371faa",
   "metadata": {},
   "source": [
    "# Simulate Gaussian Resolution \n",
    "The purpose of this notebook is to generate Gaussian curves based on provided qQ (from file) and store the curve to another file (the format of this file is still subject of discussion \n",
    "\n",
    "Steps:\n",
    "1. Load CanSAS file using SasView loader\n",
    "2. Generate Gaussian curves based on dQ\n",
    "3. Set fixed number of points to store curve\n",
    "4. Store generated curves to file (custom format that can be used for testing - not CanSAS yet)"
   ]
  },
  {
   "cell_type": "code",
   "execution_count": 26,
   "id": "e71fc565-3a83-40de-9090-8802130efc18",
   "metadata": {},
   "outputs": [],
   "source": [
    "from sas.sascalc.dataloader.loader import Loader\n",
    "import matplotlib.pyplot as plt\n",
    "import scipy.stats as stats\n",
    "import numpy as np\n",
    "\n",
    "from scipy.special import erf  # type: ignore"
   ]
  },
  {
   "cell_type": "markdown",
   "id": "1b1070c2-1bda-42d8-97af-eb2164f671c7",
   "metadata": {},
   "source": [
    "### Load data (test data that has dQ column/entry)"
   ]
  },
  {
   "cell_type": "code",
   "execution_count": 2,
   "id": "148e98a8-8eff-4ecd-8f8a-3a76e31e0e43",
   "metadata": {},
   "outputs": [],
   "source": [
    "loader = Loader()\n",
    "data = loader.load(\"../src/sas/sasview/test/1d_data/latex_smeared.xml\")\n",
    "\n",
    "q = data[0].x\n",
    "I = data[0].y\n",
    "dq = data[0].dx\n",
    "dI = data[0].dy"
   ]
  },
  {
   "cell_type": "code",
   "execution_count": 3,
   "id": "75d30c5d-ffb8-4085-8158-dceb3304cdb1",
   "metadata": {},
   "outputs": [
    {
     "data": {
      "image/png": "[encoded data removed]",
      "text/plain": [
       "<Figure size 432x288 with 1 Axes>"
      ]
     },
     "metadata": {
      "needs_background": "light"
     },
     "output_type": "display_data"
    }
   ],
   "source": [
    "plt.plot(q, I)\n",
    "plt.yscale('log')\n",
    "plt.xscale('log')"
   ]
  },
  {
   "cell_type": "code",
   "execution_count": 4,
   "id": "c7dbc82f-f47b-4486-b6ca-819f38302d5a",
   "metadata": {},
   "outputs": [
    {
     "data": {
      "text/plain": [
       "[<matplotlib.lines.Line2D at 0x7ff3241d7df0>]"
      ]
     },
     "execution_count": 4,
     "metadata": {},
     "output_type": "execute_result"
    },
    {
     "data": {
      "image/png": "[encoded data removed]",
      "text/plain": [
       "<Figure size 432x288 with 1 Axes>"
      ]
     },
     "metadata": {
      "needs_background": "light"
     },
     "output_type": "display_data"
    }
   ],
   "source": [
    "plt.plot(q, dq)"
   ]
  },
  {
   "cell_type": "markdown",
   "id": "aa6a410c-4949-4513-88e7-5d2772f8a543",
   "metadata": {},
   "source": [
    "### Generating curves using `scipy stats` function"
   ]
  },
  {
   "cell_type": "code",
   "execution_count": 5,
   "id": "4d69369a-f45f-4492-b7fe-ef7b09588135",
   "metadata": {},
   "outputs": [],
   "source": [
    "gauss_curves = []\n"
   ]
  },
  {
   "cell_type": "code",
   "execution_count": 6,
   "id": "d00dd798-a7d5-4e4c-9ee5-9833b644fa42",
   "metadata": {},
   "outputs": [],
   "source": [
    "x_axis = np.arange(-0.1, 0.1, 0.005)"
   ]
  },
  {
   "cell_type": "code",
   "execution_count": 7,
   "id": "e494d793-ee0d-4330-b967-c093071bf210",
   "metadata": {},
   "outputs": [
    {
     "data": {
      "text/plain": [
       "array([-0.096203, -0.091203, -0.086203, -0.081203, -0.076203, -0.071203,\n",
       "       -0.066203, -0.061203, -0.056203, -0.051203, -0.046203, -0.041203,\n",
       "       -0.036203, -0.031203, -0.026203, -0.021203, -0.016203, -0.011203,\n",
       "       -0.006203, -0.001203,  0.003797,  0.008797,  0.013797,  0.018797,\n",
       "        0.023797,  0.028797,  0.033797,  0.038797,  0.043797,  0.048797,\n",
       "        0.053797,  0.058797,  0.063797,  0.068797,  0.073797,  0.078797,\n",
       "        0.083797,  0.088797,  0.093797,  0.098797])"
      ]
     },
     "execution_count": 7,
     "metadata": {},
     "output_type": "execute_result"
    }
   ],
   "source": [
    "x_axis + q[0]"
   ]
  },
  {
   "cell_type": "code",
   "execution_count": 8,
   "id": "d84a1e37-23b5-4cab-80cc-70d882fd09cd",
   "metadata": {},
   "outputs": [
    {
     "data": {
      "text/plain": [
       "40"
      ]
     },
     "execution_count": 8,
     "metadata": {},
     "output_type": "execute_result"
    }
   ],
   "source": [
    "len(x_axis)"
   ]
  },
  {
   "cell_type": "code",
   "execution_count": 9,
   "id": "66fb4212-70a3-45f3-8bcc-95ae93618481",
   "metadata": {},
   "outputs": [],
   "source": [
    "step = 0.005\n",
    "for index, sigma in enumerate(dq):\n",
    "    x_axis = np.arange(-0.1, 0.1, 0.005)\n",
    "    x_axis += q[index]\n",
    "    gauss_curves.append(stats.norm.pdf(x_axis,q[index],sigma))\n",
    "    "
   ]
  },
  {
   "cell_type": "code",
   "execution_count": 10,
   "id": "ae309a73-e2b3-44e7-be1d-a8c8299ec7c2",
   "metadata": {},
   "outputs": [
    {
     "data": {
      "text/plain": [
       "array([0.301, 0.306, 0.311, 0.316, 0.321, 0.326, 0.331, 0.336, 0.341,\n",
       "       0.346, 0.351, 0.356, 0.361, 0.366, 0.371, 0.376, 0.381, 0.386,\n",
       "       0.391, 0.396, 0.401, 0.406, 0.411, 0.416, 0.421, 0.426, 0.431,\n",
       "       0.436, 0.441, 0.446, 0.451, 0.456, 0.461, 0.466, 0.471, 0.476,\n",
       "       0.481, 0.486, 0.491, 0.496])"
      ]
     },
     "execution_count": 10,
     "metadata": {},
     "output_type": "execute_result"
    }
   ],
   "source": [
    "x_axis = np.arange(-0.1, 0.1, 0.005)\n",
    "x_axis += q[-1]\n",
    "x_axis"
   ]
  },
  {
   "cell_type": "code",
   "execution_count": 11,
   "id": "5070aee6-c9d7-4de4-9912-313fab82013e",
   "metadata": {},
   "outputs": [
    {
     "data": {
      "text/plain": [
       "[<matplotlib.lines.Line2D at 0x7ff32445e7f0>]"
      ]
     },
     "execution_count": 11,
     "metadata": {},
     "output_type": "execute_result"
    },
    {
     "data": {
      "image/png": "[encoded data removed]",
      "text/plain": [
       "<Figure size 432x288 with 1 Axes>"
      ]
     },
     "metadata": {
      "needs_background": "light"
     },
     "output_type": "display_data"
    }
   ],
   "source": [
    "plt.plot(x_axis, gauss_curves[-1])"
   ]
  },
  {
   "cell_type": "markdown",
   "id": "f371e045-11fa-4499-a9f0-fa75682b7e0f",
   "metadata": {},
   "source": [
    "## TODO: Save to text file to generate "
   ]
  },
  {
   "cell_type": "markdown",
   "id": "96545ffa-b92a-4b32-801b-030a1cdc606d",
   "metadata": {},
   "source": [
    "Temporary format q, I(q), dI, dq, ResName, Npoints, [Dist data]"
   ]
  },
  {
   "cell_type": "markdown",
   "id": "32e8b031-82b6-4b3f-bee0-dd295f4bc8b3",
   "metadata": {},
   "source": [
    "## Use generated curves in sasmodels "
   ]
  },
  {
   "cell_type": "code",
   "execution_count": 12,
   "id": "4ea7d502-36ff-496f-b549-a2abcf489b2d",
   "metadata": {},
   "outputs": [],
   "source": [
    "from bumps.names import *\n",
    "from sasmodels import direct_model\n",
    "from sasmodels.core import load_model\n",
    "from sasmodels.bumps_model import Model, Experiment\n",
    "from sasmodels.data import load_data, plot_data\n",
    "from sasmodels.resolution import Resolution\n",
    "\n",
    "import matplotlib.pyplot as plt"
   ]
  },
  {
   "cell_type": "markdown",
   "id": "f1d63cf6-fcca-41ac-8699-981b6da3479f",
   "metadata": {},
   "source": [
    "### Pinhole resolution"
   ]
  },
  {
   "cell_type": "code",
   "execution_count": 32,
   "id": "5c21e630-7666-4918-b1d6-6b3d29f79fee",
   "metadata": {},
   "outputs": [],
   "source": [
    "def apply_resolution_matrix(weight_matrix, theory):\n",
    "    \"\"\"\n",
    "    Apply the resolution weight matrix to the computed theory function.\n",
    "    \"\"\"\n",
    "    print(\"apply shapes\", theory.shape, weight_matrix.shape)\n",
    "    Iq = np.dot(theory[None, :], weight_matrix)\n",
    "    print(\"result shape\",Iq.shape)\n",
    "    return Iq.flatten()\n",
    "\n",
    "class Generic1D(Resolution):\n",
    "    \"\"\"\n",
    "    Generic resolution function using weighted matrix input\n",
    "    \"\"\"\n",
    "    def __init__(self, q, weight_matrix):\n",
    "        self.q_calc = self.q = q\n",
    "        \n",
    "        #TODO: Eventually load this from file/data \n",
    "        self.weight_matrix = weight_matrix\n",
    "        \n",
    "\n",
    "    def apply(self, theory):\n",
    "        return apply_resolution_matrix(self.weight_matrix, theory)\n",
    "\n",
    "#Redifined here for testing purposes\n",
    "PINHOLE_N_SIGMA = (2.5, 3.0)\n",
    "MINIMUM_RESOLUTION = 1e-8\n",
    "MINIMUM_ABSOLUTE_Q = 0.02\n",
    "\n",
    "def bin_edges(x):\n",
    "    \"\"\"\n",
    "    Determine bin edges from bin centers, assuming that edges are centered\n",
    "    between the bins.\n",
    "\n",
    "    Note: this uses the arithmetic mean, which may not be appropriate for\n",
    "    log-scaled data.\n",
    "    \"\"\"\n",
    "    if len(x) < 2 or (np.diff(x) < 0).any():\n",
    "        raise ValueError(\"Expected bins to be an increasing set\")\n",
    "    edges = np.hstack([\n",
    "        x[0]  - 0.5*(x[1]  - x[0]),  # first point minus half first interval\n",
    "        0.5*(x[1:] + x[:-1]),        # mid points of all central intervals\n",
    "        x[-1] + 0.5*(x[-1] - x[-2]), # last point plus half last interval\n",
    "        ])\n",
    "    return edges\n",
    "\n",
    "def linear_extrapolation(q, q_min, q_max):\n",
    "    \"\"\"\n",
    "    Extrapolate *q* out to [*q_min*, *q_max*] using the step size in *q* as\n",
    "    a guide.  Extrapolation below uses about the same size as the first\n",
    "    interval.  Extrapolation above uses about the same size as the final\n",
    "    interval.\n",
    "\n",
    "    Note that extrapolated values may be negative.\n",
    "    \"\"\"\n",
    "    q = np.sort(q)\n",
    "    if q_min + 2*MINIMUM_RESOLUTION < q[0]:\n",
    "        n_low = int(np.ceil((q[0]-q_min) / (q[1]-q[0]))) if q[1] > q[0] else 15\n",
    "        q_low = np.linspace(q_min, q[0], n_low+1)[:-1]\n",
    "    else:\n",
    "        q_low = []\n",
    "    if q_max - 2*MINIMUM_RESOLUTION > q[-1]:\n",
    "        n_high = int(np.ceil((q_max-q[-1]) / (q[-1]-q[-2]))) if q[-1] > q[-2] else 15\n",
    "        q_high = np.linspace(q[-1], q_max, n_high+1)[1:]\n",
    "    else:\n",
    "        q_high = []\n",
    "    return np.concatenate([q_low, q, q_high])\n",
    "\n",
    "\n",
    "def pinhole_extend_q(q, q_width, nsigma=PINHOLE_N_SIGMA):\n",
    "    \"\"\"\n",
    "    Given *q* and *q_width*, find a set of sampling points *q_calc* so\n",
    "    that each point $I(q)$ has sufficient support from the underlying\n",
    "    function.\n",
    "    \"\"\"\n",
    "    try:\n",
    "        nsigma_low, nsigma_high = nsigma\n",
    "    except TypeError:\n",
    "        nsigma_low = nsigma_high = nsigma\n",
    "    q_min, q_max = np.min(q - nsigma_low*q_width), np.max(q + nsigma_high*q_width)\n",
    "    return linear_extrapolation(q, q_min, q_max)\n",
    "\n",
    "def pinhole_resolution(q_calc, q, q_width, nsigma=PINHOLE_N_SIGMA):\n",
    "    r\"\"\"\n",
    "    Compute the convolution matrix *W* for pinhole resolution 1-D data.\n",
    "\n",
    "    Each row *W[i]* determines the normalized weight that the corresponding\n",
    "    points *q_calc* contribute to the resolution smeared point *q[i]*.  Given\n",
    "    *W*, the resolution smearing can be computed using *dot(W,q)*.\n",
    "\n",
    "    Note that resolution is limited to $\\pm 2.5 \\sigma$.[1]  The true resolution\n",
    "    function is a broadened triangle, and does not extend over the entire\n",
    "    range $(-\\infty, +\\infty)$.  It is important to impose this limitation\n",
    "    since some models fall so steeply that the weighted value in gaussian\n",
    "    tails would otherwise dominate the integral.\n",
    "\n",
    "    *q_calc* must be increasing.  *q_width* must be greater than zero.\n",
    "\n",
    "    [1] Barker, J. G., and J. S. Pedersen. 1995. Instrumental Smearing Effects\n",
    "    in Radially Symmetric Small-Angle Neutron Scattering by Numerical and\n",
    "    Analytical Methods. Journal of Applied Crystallography 28 (2): 105--14.\n",
    "    https://doi.org/10.1107/S0021889894010095.\n",
    "    \"\"\"\n",
    "    # The current algorithm is a midpoint rectangle rule.  In the test case,\n",
    "    # neither trapezoid nor Simpson's rule improved the accuracy.\n",
    "    edges = bin_edges(q_calc)\n",
    "    #edges[edges < 0.0] = 0.0 # clip edges below zero\n",
    "    cdf = erf((edges[:, None] - q[None, :]) / (sqrt(2.0)*q_width)[None, :])\n",
    "    weights = cdf[1:] - cdf[:-1]\n",
    "    # Limit q range to (-2.5,+3) sigma\n",
    "    try:\n",
    "        nsigma_low, nsigma_high = nsigma\n",
    "    except TypeError:\n",
    "        nsigma_low = nsigma_high = nsigma\n",
    "    qhigh = q + nsigma_high*q_width\n",
    "    qlow = q - nsigma_low*q_width  # linear limits\n",
    "    ##qlow = q*q/qhigh  # log limits\n",
    "    weights[q_calc[:, None] < qlow[None, :]] = 0.\n",
    "    weights[q_calc[:, None] > qhigh[None, :]] = 0.\n",
    "    weights /= np.sum(weights, axis=0)[None, :]\n",
    "    return weights\n",
    "\n",
    "class Pinhole1D(Resolution):\n",
    "    r\"\"\"\n",
    "    Pinhole aperture with q-dependent gaussian resolution.\n",
    "\n",
    "    *q* points at which the data is measured.\n",
    "\n",
    "    *q_width* gaussian 1-sigma resolution at each data point.\n",
    "\n",
    "    *q_calc* is the list of points to calculate, or None if this should\n",
    "    be estimated from the *q* and *q_width*.\n",
    "\n",
    "    *nsigma* is the width of the resolution function.  Should be 2.5.\n",
    "    See :func:`pinhole_resolution` for details.\n",
    "    \"\"\"\n",
    "    def __init__(self, q, q_width, q_calc=None, nsigma=PINHOLE_N_SIGMA):\n",
    "        #*min_step* is the minimum point spacing to use when computing the\n",
    "        #underlying model.  It should be on the order of\n",
    "        #$\\tfrac{1}{10}\\tfrac{2\\pi}{d_\\text{max}}$ to make sure that fringes\n",
    "        #are computed with sufficient density to avoid aliasing effects.\n",
    "\n",
    "        # Protect against calls with q_width=0.  The extend_q function will\n",
    "        # not extend the q if q_width is 0, but q_width must be non-zero when\n",
    "        # constructing the weight matrix to avoid division by zero errors.\n",
    "        # In practice this should never be needed, since resolution should\n",
    "        # default to Perfect1D if the pinhole geometry is not defined.\n",
    "        self.q, self.q_width = q, q_width\n",
    "        self.q_calc = (pinhole_extend_q(q, q_width, nsigma=nsigma)\n",
    "                       if q_calc is None else np.sort(q_calc))\n",
    "\n",
    "        # Protect against models which are not defined for very low q.  Limit\n",
    "        # the smallest q value evaluated (in absolute) to 0.02*min\n",
    "        cutoff = MINIMUM_ABSOLUTE_Q*np.min(self.q)\n",
    "        self.q_calc = self.q_calc[abs(self.q_calc) >= cutoff]\n",
    "\n",
    "        # Build weight matrix from calculated q values\n",
    "        self.weight_matrix = pinhole_resolution(\n",
    "            self.q_calc, self.q, np.maximum(q_width, MINIMUM_RESOLUTION),\n",
    "            nsigma=nsigma)\n",
    "\n",
    "        # Force positive q, even for events measured on the opposite side of\n",
    "        # the beam stop.\n",
    "        self.q_calc = abs(self.q_calc)\n",
    "\n",
    "    def apply(self, theory):\n",
    "        return apply_resolution_matrix(self.weight_matrix, theory)\n"
   ]
  },
  {
   "cell_type": "code",
   "execution_count": 33,
   "id": "847f2532-b5d4-4fb5-b74b-b15cc4a0ab00",
   "metadata": {},
   "outputs": [
    {
     "name": "stdout",
     "output_type": "stream",
     "text": [
      "apply shapes (330,) (330, 301)\n",
      "result shape (1, 301)\n"
     ]
    }
   ],
   "source": [
    "pinhole_resolution = Pinhole1D(q, dq)\n",
    "\n",
    "pars = dict(scale=1, background=0.65, sld=1, sld_solvent=6) \n",
    "model = load_model('sphere')\n",
    "#model_setup = load_model('sphere')\n",
    "#resolutuion.q_calc is the same (at least in this case)\n",
    "kernel = model.make_kernel([pinhole_resolution.q_calc])\n",
    "theory = direct_model.call_kernel(kernel, pars)\n",
    "Iq_pinhole = pinhole_resolution.apply(theory)\n",
    "\n",
    "kernel.release()"
   ]
  },
  {
   "cell_type": "code",
   "execution_count": null,
   "id": "13cd41de-73a2-4fe2-b3dc-0afea8f42481",
   "metadata": {},
   "outputs": [],
   "source": [
    "generic_resolution = Generic1D(q, np.array(gauss_curves))"
   ]
  },
  {
   "cell_type": "code",
   "execution_count": null,
   "id": "e88692c0-57fc-4c50-af45-7a7fee7c9aca",
   "metadata": {},
   "outputs": [],
   "source": [
    "pars = dict(scale=1, background=0.65, sld=1, sld_solvent=6) \n",
    "model = load_model('sphere')\n",
    "#model_setup = load_model('sphere')\n",
    "#resolutuion.q_calc is the same (at least in this case)\n",
    "kernel = model.make_kernel([generic_resolution.q_calc])\n",
    "theory = direct_model.call_kernel(kernel, pars)\n",
    "Iq_generic = generic_resolution.apply(theory)"
   ]
  },
  {
   "cell_type": "code",
   "execution_count": null,
   "id": "a5b5db6d-965c-43f7-a052-626a85e87ea4",
   "metadata": {},
   "outputs": [],
   "source": [
    "plt.loglog(pinhole_resolution.q, theory, label='unsmeared')\n",
    "plt.loglog(pinhole_resolution.q, Iq_pinhole, label='pinhole_smeared')\n",
    "#plt.loglog(generic_resolution.q, Iq_generic, label='generic_smeared')\n",
    "\n",
    "plt.legend()\n",
    "plt.xlabel(\"Q (1/Ang)\")\n",
    "plt.ylabel(\"I(Q) (1/cm)\")"
   ]
  },
  {
   "cell_type": "code",
   "execution_count": null,
   "id": "a88b910a-d2a8-4186-8b2a-37aaa8e2b6dd",
   "metadata": {},
   "outputs": [],
   "source": []
  }
 ],
 "metadata": {
  "kernelspec": {
   "display_name": "Python 3 (ipykernel)",
   "language": "python",
   "name": "python3"
  },
  "language_info": {
   "codemirror_mode": {
    "name": "ipython",
    "version": 3
   },
   "file_extension": ".py",
   "mimetype": "text/x-python",
   "name": "python",
   "nbconvert_exporter": "python",
   "pygments_lexer": "ipython3",
   "version": "3.8.11"
  }
 },
 "nbformat": 4,
 "nbformat_minor": 5
}

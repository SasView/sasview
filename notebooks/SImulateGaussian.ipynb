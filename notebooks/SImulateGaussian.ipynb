{
 "cells": [
  {
   "cell_type": "markdown",
   "id": "173a9a01-1993-4b66-892a-301ffd371faa",
   "metadata": {},
   "source": [
    "# Simulate Gaussian Resolution \n",
    "The purpose of this notebook is to generate Gaussian curves based on provided qQ (from file) and store the curve to another file (the format of this file is still subject of discussion \n",
    "\n",
    "Steps:\n",
    "1. Load CanSAS file using SasView loader\n",
    "2. Generate Gaussian curves based on dQ\n",
    "3. Set fixed number of points to store curve\n",
    "4. Store generated curves to file (custom format that can be used for testing - not CanSAS yet)"
   ]
  },
  {
   "cell_type": "code",
   "execution_count": 1,
   "id": "e71fc565-3a83-40de-9090-8802130efc18",
   "metadata": {},
   "outputs": [],
   "source": [
    "from sas.sascalc.dataloader.loader import Loader\n",
    "import matplotlib.pyplot as plt\n",
    "import scipy.stats as stats\n",
    "import numpy as np\n",
    "\n",
    "from scipy.special import erf  # type: ignore"
   ]
  },
  {
   "cell_type": "markdown",
   "id": "1b1070c2-1bda-42d8-97af-eb2164f671c7",
   "metadata": {},
   "source": [
    "### Load data (test data that has dQ column/entry)"
   ]
  },
  {
   "cell_type": "code",
   "execution_count": 2,
   "id": "148e98a8-8eff-4ecd-8f8a-3a76e31e0e43",
   "metadata": {},
   "outputs": [],
   "source": [
    "loader = Loader()\n",
    "data = loader.load(\"../src/sas/sasview/test/1d_data/latex_smeared.xml\")\n",
    "\n",
    "q = data[0].x\n",
    "I = data[0].y\n",
    "dq = data[0].dx\n",
    "dI = data[0].dy"
   ]
  },
  {
   "cell_type": "code",
   "execution_count": 3,
   "id": "75d30c5d-ffb8-4085-8158-dceb3304cdb1",
   "metadata": {},
   "outputs": [
    {
     "data": {
      "image/png": "[encoded data removed]",
      "text/plain": [
       "<Figure size 432x288 with 1 Axes>"
      ]
     },
     "metadata": {
      "needs_background": "light"
     },
     "output_type": "display_data"
    }
   ],
   "source": [
    "plt.plot(q, I)\n",
    "plt.yscale('log')\n",
    "plt.xscale('log')"
   ]
  },
  {
   "cell_type": "code",
   "execution_count": 4,
   "id": "c7dbc82f-f47b-4486-b6ca-819f38302d5a",
   "metadata": {},
   "outputs": [
    {
     "data": {
      "text/plain": [
       "[<matplotlib.lines.Line2D at 0x7fb1e42dbbb0>]"
      ]
     },
     "execution_count": 4,
     "metadata": {},
     "output_type": "execute_result"
    },
    {
     "data": {
      "image/png": "[encoded data removed]",
      "text/plain": [
       "<Figure size 432x288 with 1 Axes>"
      ]
     },
     "metadata": {
      "needs_background": "light"
     },
     "output_type": "display_data"
    }
   ],
   "source": [
    "plt.plot(q, dq)"
   ]
  },
  {
   "cell_type": "markdown",
   "id": "aa6a410c-4949-4513-88e7-5d2772f8a543",
   "metadata": {},
   "source": [
    "### Generating curves using `scipy stats` function"
   ]
  },
  {
   "cell_type": "code",
   "execution_count": 5,
   "id": "4d69369a-f45f-4492-b7fe-ef7b09588135",
   "metadata": {},
   "outputs": [],
   "source": [
    "gauss_curves = []"
   ]
  },
  {
   "cell_type": "code",
   "execution_count": 6,
   "id": "d00dd798-a7d5-4e4c-9ee5-9833b644fa42",
   "metadata": {},
   "outputs": [],
   "source": [
    "x_axis = np.arange(-0.1, 0.1, 0.000666)"
   ]
  },
  {
   "cell_type": "code",
   "execution_count": 7,
   "id": "e494d793-ee0d-4330-b967-c093071bf210",
   "metadata": {},
   "outputs": [
    {
     "data": {
      "text/plain": [
       "array([-0.096203, -0.095537, -0.094871, -0.094205, -0.093539, -0.092873,\n",
       "       -0.092207, -0.091541, -0.090875, -0.090209, -0.089543, -0.088877,\n",
       "       -0.088211, -0.087545, -0.086879, -0.086213, -0.085547, -0.084881,\n",
       "       -0.084215, -0.083549, -0.082883, -0.082217, -0.081551, -0.080885,\n",
       "       -0.080219, -0.079553, -0.078887, -0.078221, -0.077555, -0.076889,\n",
       "       -0.076223, -0.075557, -0.074891, -0.074225, -0.073559, -0.072893,\n",
       "       -0.072227, -0.071561, -0.070895, -0.070229, -0.069563, -0.068897,\n",
       "       -0.068231, -0.067565, -0.066899, -0.066233, -0.065567, -0.064901,\n",
       "       -0.064235, -0.063569, -0.062903, -0.062237, -0.061571, -0.060905,\n",
       "       -0.060239, -0.059573, -0.058907, -0.058241, -0.057575, -0.056909,\n",
       "       -0.056243, -0.055577, -0.054911, -0.054245, -0.053579, -0.052913,\n",
       "       -0.052247, -0.051581, -0.050915, -0.050249, -0.049583, -0.048917,\n",
       "       -0.048251, -0.047585, -0.046919, -0.046253, -0.045587, -0.044921,\n",
       "       -0.044255, -0.043589, -0.042923, -0.042257, -0.041591, -0.040925,\n",
       "       -0.040259, -0.039593, -0.038927, -0.038261, -0.037595, -0.036929,\n",
       "       -0.036263, -0.035597, -0.034931, -0.034265, -0.033599, -0.032933,\n",
       "       -0.032267, -0.031601, -0.030935, -0.030269, -0.029603, -0.028937,\n",
       "       -0.028271, -0.027605, -0.026939, -0.026273, -0.025607, -0.024941,\n",
       "       -0.024275, -0.023609, -0.022943, -0.022277, -0.021611, -0.020945,\n",
       "       -0.020279, -0.019613, -0.018947, -0.018281, -0.017615, -0.016949,\n",
       "       -0.016283, -0.015617, -0.014951, -0.014285, -0.013619, -0.012953,\n",
       "       -0.012287, -0.011621, -0.010955, -0.010289, -0.009623, -0.008957,\n",
       "       -0.008291, -0.007625, -0.006959, -0.006293, -0.005627, -0.004961,\n",
       "       -0.004295, -0.003629, -0.002963, -0.002297, -0.001631, -0.000965,\n",
       "       -0.000299,  0.000367,  0.001033,  0.001699,  0.002365,  0.003031,\n",
       "        0.003697,  0.004363,  0.005029,  0.005695,  0.006361,  0.007027,\n",
       "        0.007693,  0.008359,  0.009025,  0.009691,  0.010357,  0.011023,\n",
       "        0.011689,  0.012355,  0.013021,  0.013687,  0.014353,  0.015019,\n",
       "        0.015685,  0.016351,  0.017017,  0.017683,  0.018349,  0.019015,\n",
       "        0.019681,  0.020347,  0.021013,  0.021679,  0.022345,  0.023011,\n",
       "        0.023677,  0.024343,  0.025009,  0.025675,  0.026341,  0.027007,\n",
       "        0.027673,  0.028339,  0.029005,  0.029671,  0.030337,  0.031003,\n",
       "        0.031669,  0.032335,  0.033001,  0.033667,  0.034333,  0.034999,\n",
       "        0.035665,  0.036331,  0.036997,  0.037663,  0.038329,  0.038995,\n",
       "        0.039661,  0.040327,  0.040993,  0.041659,  0.042325,  0.042991,\n",
       "        0.043657,  0.044323,  0.044989,  0.045655,  0.046321,  0.046987,\n",
       "        0.047653,  0.048319,  0.048985,  0.049651,  0.050317,  0.050983,\n",
       "        0.051649,  0.052315,  0.052981,  0.053647,  0.054313,  0.054979,\n",
       "        0.055645,  0.056311,  0.056977,  0.057643,  0.058309,  0.058975,\n",
       "        0.059641,  0.060307,  0.060973,  0.061639,  0.062305,  0.062971,\n",
       "        0.063637,  0.064303,  0.064969,  0.065635,  0.066301,  0.066967,\n",
       "        0.067633,  0.068299,  0.068965,  0.069631,  0.070297,  0.070963,\n",
       "        0.071629,  0.072295,  0.072961,  0.073627,  0.074293,  0.074959,\n",
       "        0.075625,  0.076291,  0.076957,  0.077623,  0.078289,  0.078955,\n",
       "        0.079621,  0.080287,  0.080953,  0.081619,  0.082285,  0.082951,\n",
       "        0.083617,  0.084283,  0.084949,  0.085615,  0.086281,  0.086947,\n",
       "        0.087613,  0.088279,  0.088945,  0.089611,  0.090277,  0.090943,\n",
       "        0.091609,  0.092275,  0.092941,  0.093607,  0.094273,  0.094939,\n",
       "        0.095605,  0.096271,  0.096937,  0.097603,  0.098269,  0.098935,\n",
       "        0.099601,  0.100267,  0.100933,  0.101599,  0.102265,  0.102931,\n",
       "        0.103597])"
      ]
     },
     "execution_count": 7,
     "metadata": {},
     "output_type": "execute_result"
    }
   ],
   "source": [
    "x_axis + q[0]"
   ]
  },
  {
   "cell_type": "code",
   "execution_count": 8,
   "id": "d84a1e37-23b5-4cab-80cc-70d882fd09cd",
   "metadata": {},
   "outputs": [
    {
     "data": {
      "text/plain": [
       "301"
      ]
     },
     "execution_count": 8,
     "metadata": {},
     "output_type": "execute_result"
    }
   ],
   "source": [
    "len(x_axis)"
   ]
  },
  {
   "cell_type": "code",
   "execution_count": 9,
   "id": "66fb4212-70a3-45f3-8bcc-95ae93618481",
   "metadata": {},
   "outputs": [],
   "source": [
    "#TODO: We just do it for entire q-range. We then devise algorithm that let's move the format \n",
    "step = 0.005\n",
    "for index, sigma in enumerate(dq):\n",
    "    gauss_curves.append(stats.norm.pdf(q,q[index],sigma))\n",
    "    "
   ]
  },
  {
   "cell_type": "code",
   "execution_count": 10,
   "id": "5070aee6-c9d7-4de4-9912-313fab82013e",
   "metadata": {},
   "outputs": [
    {
     "data": {
      "text/plain": [
       "[<matplotlib.lines.Line2D at 0x7fb1e444b8e0>]"
      ]
     },
     "execution_count": 10,
     "metadata": {},
     "output_type": "execute_result"
    },
    {
     "data": {
      "image/png": "[encoded data removed]",
      "text/plain": [
       "<Figure size 432x288 with 1 Axes>"
      ]
     },
     "metadata": {
      "needs_background": "light"
     },
     "output_type": "display_data"
    }
   ],
   "source": [
    "plt.plot(q, gauss_curves[-1])"
   ]
  },
  {
   "cell_type": "markdown",
   "id": "f371e045-11fa-4499-a9f0-fa75682b7e0f",
   "metadata": {},
   "source": [
    "## TODO: Save to text file to generate "
   ]
  },
  {
   "cell_type": "markdown",
   "id": "96545ffa-b92a-4b32-801b-030a1cdc606d",
   "metadata": {},
   "source": [
    "Temporary format q, I(q), dI, dq, ResName, Npoints, [Dist data]"
   ]
  },
  {
   "cell_type": "markdown",
   "id": "32e8b031-82b6-4b3f-bee0-dd295f4bc8b3",
   "metadata": {},
   "source": [
    "## Use generated curves in sasmodels "
   ]
  },
  {
   "cell_type": "code",
   "execution_count": 11,
   "id": "4ea7d502-36ff-496f-b549-a2abcf489b2d",
   "metadata": {},
   "outputs": [],
   "source": [
    "from bumps.names import *\n",
    "from sasmodels import direct_model\n",
    "from sasmodels.core import load_model\n",
    "from sasmodels.bumps_model import Model, Experiment\n",
    "from sasmodels.data import load_data, plot_data\n",
    "from sasmodels.resolution import Resolution\n",
    "\n",
    "import matplotlib.pyplot as plt"
   ]
  },
  {
   "cell_type": "markdown",
   "id": "f1d63cf6-fcca-41ac-8699-981b6da3479f",
   "metadata": {},
   "source": [
    "### Pinhole resolution"
   ]
  },
  {
   "cell_type": "code",
   "execution_count": 22,
   "id": "5c21e630-7666-4918-b1d6-6b3d29f79fee",
   "metadata": {},
   "outputs": [],
   "source": [
    "#Redifined here for testing purposes\n",
    "PINHOLE_N_SIGMA = (2.5, 3.0)\n",
    "MINIMUM_RESOLUTION = 1e-8\n",
    "MINIMUM_ABSOLUTE_Q = 0.02\n",
    "\n",
    "def apply_resolution_matrix(weight_matrix, theory):\n",
    "    \"\"\"\n",
    "    Apply the resolution weight matrix to the computed theory function.\n",
    "    \"\"\"\n",
    "    print(\"apply shapes\", theory.shape, weight_matrix.shape)\n",
    "    Iq = np.dot(theory[None, :], weight_matrix)\n",
    "    print(\"result shape\",Iq.shape)\n",
    "    return Iq.flatten()\n",
    "\n",
    "\n",
    "def generic_resolution(weight_matrix):\n",
    "    r\"\"\"\n",
    "    Compute the convolution matrix *W* for generic resolution 1-D data.\n",
    "\n",
    "    Inspired by pinhole_resolution\n",
    "    \"\"\"\n",
    "    # The current algorithm is a midpoint rectangle rule.  In the test case,\n",
    "    # neither trapezoid nor Simpson's rule improved the accuracy.\n",
    "   \n",
    "    weights /= np.sum(weights, axis=0)[None, :]\n",
    "    return weights\n",
    "\n",
    "\n",
    "class Generic1D(Resolution):\n",
    "    \"\"\"\n",
    "    Generic resolution function using weighted matrix input\n",
    "    \"\"\"\n",
    "    def __init__(self, q, weight_matrix):\n",
    "        self.q = q\n",
    "        \n",
    "        #self.q_calc = (pinhole_extend_q(q, q_width, nsigma=nsigma)\n",
    "        #               if q_calc is None else np.sort(q_calc))\n",
    "        \n",
    "        #TODO: Eventually load this from file/data \n",
    "        self.weight_matrix = generic_resolution(weight_matrix)\n",
    "        \n",
    "\n",
    "    def apply(self, theory):\n",
    "        return apply_resolution_matrix(self.weight_matrix, theory)\n",
    "\n",
    "\n",
    "\n",
    "def bin_edges(x):\n",
    "    \"\"\"\n",
    "    Determine bin edges from bin centers, assuming that edges are centered\n",
    "    between the bins.\n",
    "\n",
    "    Note: this uses the arithmetic mean, which may not be appropriate for\n",
    "    log-scaled data.\n",
    "    \"\"\"\n",
    "    if len(x) < 2 or (np.diff(x) < 0).any():\n",
    "        raise ValueError(\"Expected bins to be an increasing set\")\n",
    "    edges = np.hstack([\n",
    "        x[0]  - 0.5*(x[1]  - x[0]),  # first point minus half first interval\n",
    "        0.5*(x[1:] + x[:-1]),        # mid points of all central intervals\n",
    "        x[-1] + 0.5*(x[-1] - x[-2]), # last point plus half last interval\n",
    "        ])\n",
    "    return edges\n",
    "\n",
    "def linear_extrapolation(q, q_min, q_max):\n",
    "    \"\"\"\n",
    "    Extrapolate *q* out to [*q_min*, *q_max*] using the step size in *q* as\n",
    "    a guide.  Extrapolation below uses about the same size as the first\n",
    "    interval.  Extrapolation above uses about the same size as the final\n",
    "    interval.\n",
    "\n",
    "    Note that extrapolated values may be negative.\n",
    "    \"\"\"\n",
    "    q = np.sort(q)\n",
    "    if q_min + 2*MINIMUM_RESOLUTION < q[0]:\n",
    "        n_low = int(np.ceil((q[0]-q_min) / (q[1]-q[0]))) if q[1] > q[0] else 15\n",
    "        q_low = np.linspace(q_min, q[0], n_low+1)[:-1]\n",
    "    else:\n",
    "        q_low = []\n",
    "    if q_max - 2*MINIMUM_RESOLUTION > q[-1]:\n",
    "        n_high = int(np.ceil((q_max-q[-1]) / (q[-1]-q[-2]))) if q[-1] > q[-2] else 15\n",
    "        q_high = np.linspace(q[-1], q_max, n_high+1)[1:]\n",
    "    else:\n",
    "        q_high = []\n",
    "    return np.concatenate([q_low, q, q_high])\n",
    "\n",
    "def pinhole_extend_q(q, q_width, nsigma=PINHOLE_N_SIGMA):\n",
    "    \"\"\"\n",
    "    Given *q* and *q_width*, find a set of sampling points *q_calc* so\n",
    "    that each point $I(q)$ has sufficient support from the underlying\n",
    "    function.\n",
    "    \"\"\"\n",
    "    try:\n",
    "        nsigma_low, nsigma_high = nsigma\n",
    "    except TypeError:\n",
    "        nsigma_low = nsigma_high = nsigma\n",
    "    q_min, q_max = np.min(q - nsigma_low*q_width), np.max(q + nsigma_high*q_width)\n",
    "    return linear_extrapolation(q, q_min, q_max)\n",
    "\n",
    "def pinhole_resolution(q_calc, q, q_width, nsigma=PINHOLE_N_SIGMA):\n",
    "    r\"\"\"\n",
    "    Compute the convolution matrix *W* for pinhole resolution 1-D data.\n",
    "\n",
    "    Each row *W[i]* determines the normalized weight that the corresponding\n",
    "    points *q_calc* contribute to the resolution smeared point *q[i]*.  Given\n",
    "    *W*, the resolution smearing can be computed using *dot(W,q)*.\n",
    "\n",
    "    Note that resolution is limited to $\\pm 2.5 \\sigma$.[1]  The true resolution\n",
    "    function is a broadened triangle, and does not extend over the entire\n",
    "    range $(-\\infty, +\\infty)$.  It is important to impose this limitation\n",
    "    since some models fall so steeply that the weighted value in gaussian\n",
    "    tails would otherwise dominate the integral.\n",
    "\n",
    "    *q_calc* must be increasing.  *q_width* must be greater than zero.\n",
    "\n",
    "    [1] Barker, J. G., and J. S. Pedersen. 1995. Instrumental Smearing Effects\n",
    "    in Radially Symmetric Small-Angle Neutron Scattering by Numerical and\n",
    "    Analytical Methods. Journal of Applied Crystallography 28 (2): 105--14.\n",
    "    https://doi.org/10.1107/S0021889894010095.\n",
    "    \"\"\"\n",
    "    # The current algorithm is a midpoint rectangle rule.  In the test case,\n",
    "    # neither trapezoid nor Simpson's rule improved the accuracy.\n",
    "    edges = bin_edges(q_calc)\n",
    "    #edges[edges < 0.0] = 0.0 # clip edges below zero\n",
    "    cdf = erf((edges[:, None] - q[None, :]) / (sqrt(2.0)*q_width)[None, :])\n",
    "    #plt.plot(cdf[:,-1])\n",
    "    weights = cdf[1:] - cdf[:-1]\n",
    "    plt.plot(q, weights[329])\n",
    "    # Limit q range to (-2.5,+3) sigma\n",
    "    try:\n",
    "        nsigma_low, nsigma_high = nsigma\n",
    "    except TypeError:\n",
    "        nsigma_low = nsigma_high = nsigma\n",
    "    qhigh = q + nsigma_high*q_width\n",
    "    qlow = q - nsigma_low*q_width  # linear limits\n",
    "    ##qlow = q*q/qhigh  # log limits\n",
    "    weights[q_calc[:, None] < qlow[None, :]] = 0.\n",
    "    weights[q_calc[:, None] > qhigh[None, :]] = 0.\n",
    "    weights /= np.sum(weights, axis=0)[None, :]\n",
    "    \n",
    "    return weights\n",
    "\n",
    "class Pinhole1D(Resolution):\n",
    "    r\"\"\"\n",
    "    Pinhole aperture with q-dependent gaussian resolution.\n",
    "\n",
    "    *q* points at which the data is measured.\n",
    "\n",
    "    *q_width* gaussian 1-sigma resolution at each data point.\n",
    "\n",
    "    *q_calc* is the list of points to calculate, or None if this should\n",
    "    be estimated from the *q* and *q_width*.\n",
    "\n",
    "    *nsigma* is the width of the resolution function.  Should be 2.5.\n",
    "    See :func:`pinhole_resolution` for details.\n",
    "    \"\"\"\n",
    "    def __init__(self, q, q_width, q_calc=None, nsigma=PINHOLE_N_SIGMA):\n",
    "        #*min_step* is the minimum point spacing to use when computing the\n",
    "        #underlying model.  It should be on the order of\n",
    "        #$\\tfrac{1}{10}\\tfrac{2\\pi}{d_\\text{max}}$ to make sure that fringes\n",
    "        #are computed with sufficient density to avoid aliasing effects.\n",
    "\n",
    "        # Protect against calls with q_width=0.  The extend_q function will\n",
    "        # not extend the q if q_width is 0, but q_width must be non-zero when\n",
    "        # constructing the weight matrix to avoid division by zero errors.\n",
    "        # In practice this should never be needed, since resolution should\n",
    "        # default to Perfect1D if the pinhole geometry is not defined.\n",
    "        self.q, self.q_width = q, q_width\n",
    "        self.q_calc = (pinhole_extend_q(q, q_width, nsigma=nsigma)\n",
    "                       if q_calc is None else np.sort(q_calc))\n",
    "\n",
    "        # Protect against models which are not defined for very low q.  Limit\n",
    "        # the smallest q value evaluated (in absolute) to 0.02*min\n",
    "        cutoff = MINIMUM_ABSOLUTE_Q*np.min(self.q)\n",
    "        self.q_calc = self.q_calc[abs(self.q_calc) >= cutoff]\n",
    "\n",
    "        # Build weight matrix from calculated q values\n",
    "        self.weight_matrix = pinhole_resolution(\n",
    "            self.q_calc, self.q, np.maximum(q_width, MINIMUM_RESOLUTION),\n",
    "            nsigma=nsigma)\n",
    "\n",
    "        # Force positive q, even for events measured on the opposite side of\n",
    "        # the beam stop.\n",
    "        self.q_calc = abs(self.q_calc)\n",
    "\n",
    "    def apply(self, theory):\n",
    "        return apply_resolution_matrix(self.weight_matrix, theory)\n"
   ]
  },
  {
   "cell_type": "code",
   "execution_count": 23,
   "id": "847f2532-b5d4-4fb5-b74b-b15cc4a0ab00",
   "metadata": {},
   "outputs": [
    {
     "name": "stdout",
     "output_type": "stream",
     "text": [
      "apply shapes (330,) (330, 301)\n",
      "result shape (1, 301)\n"
     ]
    },
    {
     "data": {
      "image/png": "[encoded data removed]",
      "text/plain": [
       "<Figure size 432x288 with 1 Axes>"
      ]
     },
     "metadata": {
      "needs_background": "light"
     },
     "output_type": "display_data"
    }
   ],
   "source": [
    "pinhole_resolution = Pinhole1D(q, dq)\n",
    "\n",
    "pars = dict(scale=1, background=0.65, sld=1, sld_solvent=6) \n",
    "model = load_model('sphere')\n",
    "#model_setup = load_model('sphere')\n",
    "#resolutuion.q_calc is the same (at least in this case)\n",
    "kernel = model.make_kernel([pinhole_resolution.q_calc])\n",
    "theory = direct_model.call_kernel(kernel, pars)\n",
    "Iq_pinhole = pinhole_resolution.apply(theory)\n",
    "\n",
    "kernel.release()"
   ]
  },
  {
   "cell_type": "code",
   "execution_count": 24,
   "id": "13cd41de-73a2-4fe2-b3dc-0afea8f42481",
   "metadata": {},
   "outputs": [
    {
     "ename": "UnboundLocalError",
     "evalue": "local variable 'weights' referenced before assignment",
     "output_type": "error",
     "traceback": [
      "\u001b[0;31m---------------------------------------------------------------------------\u001b[0m",
      "\u001b[0;31mUnboundLocalError\u001b[0m                         Traceback (most recent call last)",
      "\u001b[0;32m/var/folders/q3/5vy4nct93wg03ynnn836g49m0000gq/T/ipykernel_37103/3953724929.py\u001b[0m in \u001b[0;36m<module>\u001b[0;34m\u001b[0m\n\u001b[1;32m      1\u001b[0m \u001b[0;31m#Will need to use q_extension\u001b[0m\u001b[0;34m\u001b[0m\u001b[0;34m\u001b[0m\u001b[0;34m\u001b[0m\u001b[0m\n\u001b[0;32m----> 2\u001b[0;31m \u001b[0mgeneric_resolution\u001b[0m \u001b[0;34m=\u001b[0m \u001b[0mGeneric1D\u001b[0m\u001b[0;34m(\u001b[0m\u001b[0mq\u001b[0m\u001b[0;34m,\u001b[0m \u001b[0mnp\u001b[0m\u001b[0;34m.\u001b[0m\u001b[0marray\u001b[0m\u001b[0;34m(\u001b[0m\u001b[0mgauss_curves\u001b[0m\u001b[0;34m)\u001b[0m\u001b[0;34m)\u001b[0m\u001b[0;34m\u001b[0m\u001b[0;34m\u001b[0m\u001b[0m\n\u001b[0m",
      "\u001b[0;32m/var/folders/q3/5vy4nct93wg03ynnn836g49m0000gq/T/ipykernel_37103/3765718992.py\u001b[0m in \u001b[0;36m__init__\u001b[0;34m(self, q, weight_matrix)\u001b[0m\n\u001b[1;32m     38\u001b[0m \u001b[0;34m\u001b[0m\u001b[0m\n\u001b[1;32m     39\u001b[0m         \u001b[0;31m#TODO: Eventually load this from file/data\u001b[0m\u001b[0;34m\u001b[0m\u001b[0;34m\u001b[0m\u001b[0;34m\u001b[0m\u001b[0m\n\u001b[0;32m---> 40\u001b[0;31m         \u001b[0mself\u001b[0m\u001b[0;34m.\u001b[0m\u001b[0mweight_matrix\u001b[0m \u001b[0;34m=\u001b[0m \u001b[0mgeneric_resolution\u001b[0m\u001b[0;34m(\u001b[0m\u001b[0mweight_matrix\u001b[0m\u001b[0;34m)\u001b[0m\u001b[0;34m\u001b[0m\u001b[0;34m\u001b[0m\u001b[0m\n\u001b[0m\u001b[1;32m     41\u001b[0m \u001b[0;34m\u001b[0m\u001b[0m\n\u001b[1;32m     42\u001b[0m \u001b[0;34m\u001b[0m\u001b[0m\n",
      "\u001b[0;32m/var/folders/q3/5vy4nct93wg03ynnn836g49m0000gq/T/ipykernel_37103/3765718992.py\u001b[0m in \u001b[0;36mgeneric_resolution\u001b[0;34m(weight_matrix)\u001b[0m\n\u001b[1;32m     23\u001b[0m     \u001b[0;31m# neither trapezoid nor Simpson's rule improved the accuracy.\u001b[0m\u001b[0;34m\u001b[0m\u001b[0;34m\u001b[0m\u001b[0;34m\u001b[0m\u001b[0m\n\u001b[1;32m     24\u001b[0m \u001b[0;34m\u001b[0m\u001b[0m\n\u001b[0;32m---> 25\u001b[0;31m     \u001b[0mweights\u001b[0m \u001b[0;34m/=\u001b[0m \u001b[0mnp\u001b[0m\u001b[0;34m.\u001b[0m\u001b[0msum\u001b[0m\u001b[0;34m(\u001b[0m\u001b[0mweights\u001b[0m\u001b[0;34m,\u001b[0m \u001b[0maxis\u001b[0m\u001b[0;34m=\u001b[0m\u001b[0;36m0\u001b[0m\u001b[0;34m)\u001b[0m\u001b[0;34m[\u001b[0m\u001b[0;32mNone\u001b[0m\u001b[0;34m,\u001b[0m \u001b[0;34m:\u001b[0m\u001b[0;34m]\u001b[0m\u001b[0;34m\u001b[0m\u001b[0;34m\u001b[0m\u001b[0m\n\u001b[0m\u001b[1;32m     26\u001b[0m     \u001b[0;32mreturn\u001b[0m \u001b[0mweights\u001b[0m\u001b[0;34m\u001b[0m\u001b[0;34m\u001b[0m\u001b[0m\n\u001b[1;32m     27\u001b[0m \u001b[0;34m\u001b[0m\u001b[0m\n",
      "\u001b[0;31mUnboundLocalError\u001b[0m: local variable 'weights' referenced before assignment"
     ]
    }
   ],
   "source": [
    "#Will need to use q_extension\n",
    "generic_resolution = Generic1D(q, np.array(gauss_curves))"
   ]
  },
  {
   "cell_type": "code",
   "execution_count": 20,
   "id": "e88692c0-57fc-4c50-af45-7a7fee7c9aca",
   "metadata": {},
   "outputs": [
    {
     "name": "stdout",
     "output_type": "stream",
     "text": [
      "apply shapes (301,) (301, 301)\n",
      "result shape (1, 301)\n"
     ]
    }
   ],
   "source": [
    "pars = dict(scale=1, background=0.65, sld=1, sld_solvent=6) \n",
    "model = load_model('sphere')\n",
    "#model_setup = load_model('sphere')\n",
    "#resolutuion.q_calc is the same (at least in this case)\n",
    "kernel = model.make_kernel([generic_resolution.q])\n",
    "theory = direct_model.call_kernel(kernel, pars)\n",
    "Iq_generic = generic_resolution.apply(theory)\n",
    "#kernel.realase()"
   ]
  },
  {
   "cell_type": "code",
   "execution_count": 21,
   "id": "a5b5db6d-965c-43f7-a052-626a85e87ea4",
   "metadata": {},
   "outputs": [
    {
     "data": {
      "text/plain": [
       "Text(0, 0.5, 'I(Q) (1/cm)')"
      ]
     },
     "execution_count": 21,
     "metadata": {},
     "output_type": "execute_result"
    },
    {
     "data": {
      "image/png": "[encoded data removed]",
      "text/plain": [
       "<Figure size 432x288 with 1 Axes>"
      ]
     },
     "metadata": {
      "needs_background": "light"
     },
     "output_type": "display_data"
    }
   ],
   "source": [
    "plt.loglog(pinhole_resolution.q, theory, label='unsmeared')\n",
    "plt.loglog(pinhole_resolution.q, Iq_pinhole, label='pinhole_smeared')\n",
    "plt.loglog(generic_resolution.q, Iq_generic, label='generic_smeared')\n",
    "\n",
    "plt.legend()\n",
    "plt.xlabel(\"Q (1/Ang)\")\n",
    "plt.ylabel(\"I(Q) (1/cm)\")"
   ]
  },
  {
   "cell_type": "code",
   "execution_count": null,
   "id": "a88b910a-d2a8-4186-8b2a-37aaa8e2b6dd",
   "metadata": {},
   "outputs": [],
   "source": []
  }
 ],
 "metadata": {
  "kernelspec": {
   "display_name": "Python 3 (ipykernel)",
   "language": "python",
   "name": "python3"
  },
  "language_info": {
   "codemirror_mode": {
    "name": "ipython",
    "version": 3
   },
   "file_extension": ".py",
   "mimetype": "text/x-python",
   "name": "python",
   "nbconvert_exporter": "python",
   "pygments_lexer": "ipython3",
   "version": "3.8.11"
  }
 },
 "nbformat": 4,
 "nbformat_minor": 5
}

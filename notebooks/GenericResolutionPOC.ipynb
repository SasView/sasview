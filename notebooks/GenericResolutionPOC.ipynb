{
 "cells": [
  {
   "cell_type": "markdown",
   "id": "173a9a01-1993-4b66-892a-301ffd371faa",
   "metadata": {},
   "source": [
    "# Generic Resolution Function (Proof of concept)\n",
    "In time-of-flight SANS the resolution curves from all the wavelengths contributing to a particular Q value are averaged together, weighted by the number of neutrons detected at each wavelength. Since the resolution width is inversely proportional to wavelength this often gives a curve that is noticeably sharper in the peak and broader in the tails than a simple Gaussian.\n",
    "\n",
    "The purpose of this notebook is to provide a proof concept for extending SasView with generic resolution function. In the first approximation it has been demonstarted with resolution fuction described by Gaussian curve, which allows for easy comparison with already existing implementation into sasview.\n",
    "\n",
    "The notebooks goes through following steps:\n",
    "1. Load CanSAS file using SasView loader\n",
    "2. Generate Gaussian curves based on dQ values from the file\n",
    "3. Store generated curves to file (custom format that can be used for testing - not CanSAS yet)\n",
    "4. Modifies sasmodels resolution functions to use generic resolution\n",
    "5. Compares generated I(q) obtained with Pinhole1D function and generic resolution "
   ]
  },
  {
   "cell_type": "code",
   "execution_count": 1,
   "id": "e71fc565-3a83-40de-9090-8802130efc18",
   "metadata": {},
   "outputs": [],
   "source": [
    "from sas.sascalc.dataloader.loader import Loader\n",
    "import matplotlib.pyplot as plt\n",
    "import scipy.stats as stats\n",
    "import numpy as np\n",
    "from scipy.special import erf \n",
    "from bumps.names import *\n",
    "from sasmodels import direct_model\n",
    "from sasmodels.core import load_model\n",
    "from sasmodels.bumps_model import Model, Experiment\n",
    "from sasmodels.data import load_data, plot_data\n",
    "from sasmodels.resolution import Resolution"
   ]
  },
  {
   "cell_type": "markdown",
   "id": "1b1070c2-1bda-42d8-97af-eb2164f671c7",
   "metadata": {},
   "source": [
    "### Loading latex_smeared data set containing dQ column"
   ]
  },
  {
   "cell_type": "code",
   "execution_count": 2,
   "id": "148e98a8-8eff-4ecd-8f8a-3a76e31e0e43",
   "metadata": {},
   "outputs": [],
   "source": [
    "loader = Loader()\n",
    "data = loader.load(\"../src/sas/sasview/test/1d_data/latex_smeared.xml\")\n",
    "\n",
    "q = data[0].x\n",
    "I = data[0].y\n",
    "dq = data[0].dx\n",
    "dI = data[0].dy"
   ]
  },
  {
   "cell_type": "markdown",
   "id": "aa6a410c-4949-4513-88e7-5d2772f8a543",
   "metadata": {},
   "source": [
    "### Generating Gaussians curves using `scipy stats` function"
   ]
  },
  {
   "cell_type": "code",
   "execution_count": 3,
   "id": "66fb4212-70a3-45f3-8bcc-95ae93618481",
   "metadata": {},
   "outputs": [],
   "source": [
    "#TODO: We just do it for entire q-range.  \n",
    "gauss_curves = []\n",
    "for index, sigma in enumerate(dq):\n",
    "    gauss_curves.append(stats.norm.pdf(q,q[index],sigma))"
   ]
  },
  {
   "cell_type": "markdown",
   "id": "3e1e6910-c5ec-42ed-b25d-4229d466360f",
   "metadata": {},
   "source": [
    "Exemplary plot for a single data point"
   ]
  },
  {
   "cell_type": "code",
   "execution_count": 4,
   "id": "5070aee6-c9d7-4de4-9912-313fab82013e",
   "metadata": {},
   "outputs": [
    {
     "data": {
      "text/plain": [
       "[<matplotlib.lines.Line2D at 0x7f8106fbc2e0>]"
      ]
     },
     "execution_count": 4,
     "metadata": {},
     "output_type": "execute_result"
    },
    {
     "data": {
      "image/png": "[encoded data removed]",
      "text/plain": [
       "<Figure size 432x288 with 1 Axes>"
      ]
     },
     "metadata": {
      "needs_background": "light"
     },
     "output_type": "display_data"
    }
   ],
   "source": [
    "plt.plot(q, gauss_curves[150])"
   ]
  },
  {
   "cell_type": "markdown",
   "id": "f371e045-11fa-4499-a9f0-fa75682b7e0f",
   "metadata": {},
   "source": [
    "### Save curves to text file (temporary format)"
   ]
  },
  {
   "cell_type": "markdown",
   "id": "578714cc-4edf-4637-b73a-1354cd2ad232",
   "metadata": {},
   "source": [
    "#### General considerations about data format (subject of discussion):\n",
    "\n",
    "* We presume that a canSAS hdf format file is going to be used.  \n",
    "* Qdev(Q) should always be provided as before to cope with the usual software\n",
    "* ResName(Q) allows a switch between numerical curves and analytic fits to curves on a Q by Q basis. This might enable special treatment at extremes of Q, or say around Bragg peaks or other sharp features.\n",
    "\n",
    "|Description|ResName|ResData|\n",
    "|-----------|-------|-------|\n",
    "|Analytic Gaussian|GaussFn|Qdev|\n",
    "|General, equally spaced|CurveEq|Ndata, V0, V1,V2, …, Vmid, … Vend|\n",
    "|General, arbitrary spacing|CurveGen|X0, V0, X1, V1, X2, …, Xj, Vj, …., Xend, Vend|\n",
    "|User supplied|UserRes|FnName, FnData|\n"
   ]
  },
  {
   "cell_type": "markdown",
   "id": "96545ffa-b92a-4b32-801b-030a1cdc606d",
   "metadata": {},
   "source": [
    "Temporary format q, I(q), dq, dI, ResName, Npoints, [Dist data]<br>\n",
    "<b>Note: Here we are stroring data for all q points, which is clearly overkill as we store many zeros. </b>"
   ]
  },
  {
   "cell_type": "code",
   "execution_count": 14,
   "id": "27a9d2c4-9cc6-4cf2-98c2-ef56425452bd",
   "metadata": {},
   "outputs": [],
   "source": [
    "f = open(\"resolution.dat\", \"w\")\n",
    "first_line = '<q> <I> <dq> <dI> <ResName> <[ResData]>\\n'\n",
    "f.write(first_line)\n",
    "for index, gauss_curve in enumerate(gauss_curves):\n",
    "    q_res = [(q[index], res) for index, res in enumerate(gauss_curve)]\n",
    "    line = f'{q[index]} {I[index]} {dq[index]} {dI[index]} CurveGen {q_res}\\n'\n",
    "    f.write(line)\n",
    "f.close()"
   ]
  },
  {
   "cell_type": "markdown",
   "id": "32e8b031-82b6-4b3f-bee0-dd295f4bc8b3",
   "metadata": {},
   "source": [
    "### Modifying sasmodels resolution functions to use generic resolution"
   ]
  },
  {
   "cell_type": "code",
   "execution_count": null,
   "id": "a212829f-805d-4563-aa14-d8d6bf50127e",
   "metadata": {},
   "outputs": [],
   "source": []
  },
  {
   "cell_type": "code",
   "execution_count": 6,
   "id": "5c21e630-7666-4918-b1d6-6b3d29f79fee",
   "metadata": {},
   "outputs": [],
   "source": [
    "#Redifined here for testing purposes\n",
    "PINHOLE_N_SIGMA = (2.5, 3.0)\n",
    "MINIMUM_RESOLUTION = 1e-8\n",
    "MINIMUM_ABSOLUTE_Q = 0.02\n",
    "\n",
    "def apply_resolution_matrix(weight_matrix, theory):\n",
    "    \"\"\"\n",
    "    Apply the resolution weight matrix to the computed theory function.\n",
    "    \"\"\"\n",
    "    #print(\"apply shapes\", theory.shape, weight_matrix.shape)\n",
    "    Iq = np.dot(theory[None, :], weight_matrix)\n",
    "    #print(\"result shape\",Iq.shape)\n",
    "    return Iq.flatten()\n",
    "\n",
    "\n",
    "def generic_resolution(weights):\n",
    "    r\"\"\"\n",
    "    Compute the convolution matrix *W* for generic resolution 1-D data.\n",
    "\n",
    "    Inspired by pinhole_resolution\n",
    "    \"\"\"\n",
    "    # The current algorithm is a midpoint rectangle rule.  In the test case,\n",
    "    # neither trapezoid nor Simpson's rule improved the accuracy.\n",
    "   \n",
    "    weights /= np.sum(weights, axis=0)[None, :]\n",
    "    return weights\n",
    "\n",
    "\n",
    "class Generic1D(Resolution):\n",
    "    \"\"\"\n",
    "    Generic resolution function using weighted matrix input\n",
    "    \"\"\"\n",
    "    def __init__(self, q, weight_matrix):\n",
    "        self.q = q\n",
    "        \n",
    "        #self.q_calc = (pinhole_extend_q(q, q_width, nsigma=nsigma)\n",
    "        #               if q_calc is None else np.sort(q_calc))\n",
    "        \n",
    "        #TODO: Eventually load this from file/data \n",
    "        self.weight_matrix = generic_resolution(weight_matrix)\n",
    "        \n",
    "\n",
    "    def apply(self, theory):\n",
    "        return apply_resolution_matrix(self.weight_matrix, theory)\n",
    "\n",
    "\n",
    "def bin_edges(x):\n",
    "    \"\"\"\n",
    "    Determine bin edges from bin centers, assuming that edges are centered\n",
    "    between the bins.\n",
    "\n",
    "    Note: this uses the arithmetic mean, which may not be appropriate for\n",
    "    log-scaled data.\n",
    "    \"\"\"\n",
    "    if len(x) < 2 or (np.diff(x) < 0).any():\n",
    "        raise ValueError(\"Expected bins to be an increasing set\")\n",
    "    edges = np.hstack([\n",
    "        x[0]  - 0.5*(x[1]  - x[0]),  # first point minus half first interval\n",
    "        0.5*(x[1:] + x[:-1]),        # mid points of all central intervals\n",
    "        x[-1] + 0.5*(x[-1] - x[-2]), # last point plus half last interval\n",
    "        ])\n",
    "    return edges\n",
    "\n",
    "def linear_extrapolation(q, q_min, q_max):\n",
    "    \"\"\"\n",
    "    Extrapolate *q* out to [*q_min*, *q_max*] using the step size in *q* as\n",
    "    a guide.  Extrapolation below uses about the same size as the first\n",
    "    interval.  Extrapolation above uses about the same size as the final\n",
    "    interval.\n",
    "\n",
    "    Note that extrapolated values may be negative.\n",
    "    \"\"\"\n",
    "    q = np.sort(q)\n",
    "    if q_min + 2*MINIMUM_RESOLUTION < q[0]:\n",
    "        n_low = int(np.ceil((q[0]-q_min) / (q[1]-q[0]))) if q[1] > q[0] else 15\n",
    "        q_low = np.linspace(q_min, q[0], n_low+1)[:-1]\n",
    "    else:\n",
    "        q_low = []\n",
    "    if q_max - 2*MINIMUM_RESOLUTION > q[-1]:\n",
    "        n_high = int(np.ceil((q_max-q[-1]) / (q[-1]-q[-2]))) if q[-1] > q[-2] else 15\n",
    "        q_high = np.linspace(q[-1], q_max, n_high+1)[1:]\n",
    "    else:\n",
    "        q_high = []\n",
    "    return np.concatenate([q_low, q, q_high])\n",
    "\n",
    "def pinhole_extend_q(q, q_width, nsigma=PINHOLE_N_SIGMA):\n",
    "    \"\"\"\n",
    "    Given *q* and *q_width*, find a set of sampling points *q_calc* so\n",
    "    that each point $I(q)$ has sufficient support from the underlying\n",
    "    function.\n",
    "    \"\"\"\n",
    "    try:\n",
    "        nsigma_low, nsigma_high = nsigma\n",
    "    except TypeError:\n",
    "        nsigma_low = nsigma_high = nsigma\n",
    "    q_min, q_max = np.min(q - nsigma_low*q_width), np.max(q + nsigma_high*q_width)\n",
    "    return linear_extrapolation(q, q_min, q_max)\n",
    "\n",
    "def pinhole_resolution(q_calc, q, q_width, nsigma=PINHOLE_N_SIGMA):\n",
    "    r\"\"\"\n",
    "    Compute the convolution matrix *W* for pinhole resolution 1-D data.\n",
    "\n",
    "    Each row *W[i]* determines the normalized weight that the corresponding\n",
    "    points *q_calc* contribute to the resolution smeared point *q[i]*.  Given\n",
    "    *W*, the resolution smearing can be computed using *dot(W,q)*.\n",
    "\n",
    "    Note that resolution is limited to $\\pm 2.5 \\sigma$.[1]  The true resolution\n",
    "    function is a broadened triangle, and does not extend over the entire\n",
    "    range $(-\\infty, +\\infty)$.  It is important to impose this limitation\n",
    "    since some models fall so steeply that the weighted value in gaussian\n",
    "    tails would otherwise dominate the integral.\n",
    "\n",
    "    *q_calc* must be increasing.  *q_width* must be greater than zero.\n",
    "\n",
    "    [1] Barker, J. G., and J. S. Pedersen. 1995. Instrumental Smearing Effects\n",
    "    in Radially Symmetric Small-Angle Neutron Scattering by Numerical and\n",
    "    Analytical Methods. Journal of Applied Crystallography 28 (2): 105--14.\n",
    "    https://doi.org/10.1107/S0021889894010095.\n",
    "    \"\"\"\n",
    "    # The current algorithm is a midpoint rectangle rule.  In the test case,\n",
    "    # neither trapezoid nor Simpson's rule improved the accuracy.\n",
    "    edges = bin_edges(q_calc)\n",
    "    #edges[edges < 0.0] = 0.0 # clip edges below zero\n",
    "    cdf = erf((edges[:, None] - q[None, :]) / (sqrt(2.0)*q_width)[None, :])\n",
    "    #plt.plot(cdf[:,-1])\n",
    "    weights = cdf[1:] - cdf[:-1]\n",
    "    #plt.plot(q, weights[329])\n",
    "    # Limit q range to (-2.5,+3) sigma\n",
    "    try:\n",
    "        nsigma_low, nsigma_high = nsigma\n",
    "    except TypeError:\n",
    "        nsigma_low = nsigma_high = nsigma\n",
    "    qhigh = q + nsigma_high*q_width\n",
    "    qlow = q - nsigma_low*q_width  # linear limits\n",
    "    ##qlow = q*q/qhigh  # log limits\n",
    "    weights[q_calc[:, None] < qlow[None, :]] = 0.\n",
    "    weights[q_calc[:, None] > qhigh[None, :]] = 0.\n",
    "    weights /= np.sum(weights, axis=0)[None, :]\n",
    "    \n",
    "    return weights\n",
    "\n",
    "class Pinhole1D(Resolution):\n",
    "    r\"\"\"\n",
    "    Pinhole aperture with q-dependent gaussian resolution.\n",
    "\n",
    "    *q* points at which the data is measured.\n",
    "\n",
    "    *q_width* gaussian 1-sigma resolution at each data point.\n",
    "\n",
    "    *q_calc* is the list of points to calculate, or None if this should\n",
    "    be estimated from the *q* and *q_width*.\n",
    "\n",
    "    *nsigma* is the width of the resolution function.  Should be 2.5.\n",
    "    See :func:`pinhole_resolution` for details.\n",
    "    \"\"\"\n",
    "    def __init__(self, q, q_width, q_calc=None, nsigma=PINHOLE_N_SIGMA):\n",
    "        #*min_step* is the minimum point spacing to use when computing the\n",
    "        #underlying model.  It should be on the order of\n",
    "        #$\\tfrac{1}{10}\\tfrac{2\\pi}{d_\\text{max}}$ to make sure that fringes\n",
    "        #are computed with sufficient density to avoid aliasing effects.\n",
    "\n",
    "        # Protect against calls with q_width=0.  The extend_q function will\n",
    "        # not extend the q if q_width is 0, but q_width must be non-zero when\n",
    "        # constructing the weight matrix to avoid division by zero errors.\n",
    "        # In practice this should never be needed, since resolution should\n",
    "        # default to Perfect1D if the pinhole geometry is not defined.\n",
    "        self.q, self.q_width = q, q_width\n",
    "        self.q_calc = (pinhole_extend_q(q, q_width, nsigma=nsigma)\n",
    "                       if q_calc is None else np.sort(q_calc))\n",
    "\n",
    "        # Protect against models which are not defined for very low q.  Limit\n",
    "        # the smallest q value evaluated (in absolute) to 0.02*min\n",
    "        cutoff = MINIMUM_ABSOLUTE_Q*np.min(self.q)\n",
    "        self.q_calc = self.q_calc[abs(self.q_calc) >= cutoff]\n",
    "\n",
    "        # Build weight matrix from calculated q values\n",
    "        self.weight_matrix = pinhole_resolution(\n",
    "            self.q_calc, self.q, np.maximum(q_width, MINIMUM_RESOLUTION),\n",
    "            nsigma=nsigma)\n",
    "\n",
    "        # Force positive q, even for events measured on the opposite side of\n",
    "        # the beam stop.\n",
    "        self.q_calc = abs(self.q_calc)\n",
    "\n",
    "    def apply(self, theory):\n",
    "        return apply_resolution_matrix(self.weight_matrix, theory)\n"
   ]
  },
  {
   "cell_type": "markdown",
   "id": "7e8eb245-665b-4d3c-8579-5deb6a1aa8c2",
   "metadata": {},
   "source": [
    "### Applying resolution function"
   ]
  },
  {
   "cell_type": "code",
   "execution_count": 7,
   "id": "847f2532-b5d4-4fb5-b74b-b15cc4a0ab00",
   "metadata": {},
   "outputs": [
    {
     "name": "stderr",
     "output_type": "stream",
     "text": [
      "/Users/wojciechpotrzebowski/opt/anaconda3/envs/sasview_pip/lib/python3.8/site-packages/pyopencl/__init__.py:266: CompilerWarning: Non-empty compiler output encountered. Set the environment variable PYOPENCL_COMPILER_OUTPUT=1 to see more.\n",
      "  warn(\"Non-empty compiler output encountered. Set the \"\n"
     ]
    }
   ],
   "source": [
    "pinhole_resolution = Pinhole1D(q, dq)\n",
    "\n",
    "pars = dict(scale=1, background=0.65, sld=1, sld_solvent=6) \n",
    "model = load_model('sphere')\n",
    "\n",
    "kernel = model.make_kernel([pinhole_resolution.q_calc])\n",
    "theory = direct_model.call_kernel(kernel, pars)\n",
    "Iq_pinhole = pinhole_resolution.apply(theory)\n",
    "\n",
    "kernel.release()"
   ]
  },
  {
   "cell_type": "code",
   "execution_count": 8,
   "id": "13cd41de-73a2-4fe2-b3dc-0afea8f42481",
   "metadata": {},
   "outputs": [],
   "source": [
    "#Will need to use q_extension\n",
    "generic_resolution = Generic1D(q, np.array(gauss_curves))"
   ]
  },
  {
   "cell_type": "code",
   "execution_count": 9,
   "id": "e88692c0-57fc-4c50-af45-7a7fee7c9aca",
   "metadata": {},
   "outputs": [],
   "source": [
    "pars = dict(scale=1, background=0.65, sld=1, sld_solvent=6) \n",
    "model = load_model('sphere')\n",
    "#model_setup = load_model('sphere')\n",
    "#resolutuion.q_calc is the same (at least in this case)\n",
    "kernel = model.make_kernel([generic_resolution.q])\n",
    "theory = direct_model.call_kernel(kernel, pars)\n",
    "Iq_generic = generic_resolution.apply(theory)\n",
    "#kernel.realase()"
   ]
  },
  {
   "cell_type": "markdown",
   "id": "969e9ef1-2092-4fc4-a58e-e482a49814c7",
   "metadata": {},
   "source": [
    "## 5. Comparing generated I(q) obtained with Pinhole1D function and generic resolution"
   ]
  },
  {
   "cell_type": "code",
   "execution_count": 10,
   "id": "a5b5db6d-965c-43f7-a052-626a85e87ea4",
   "metadata": {},
   "outputs": [
    {
     "data": {
      "text/plain": [
       "Text(0, 0.5, 'I(Q) (1/cm)')"
      ]
     },
     "execution_count": 10,
     "metadata": {},
     "output_type": "execute_result"
    },
    {
     "data": {
      "image/png": "[encoded data removed]",
      "text/plain": [
       "<Figure size 432x288 with 1 Axes>"
      ]
     },
     "metadata": {
      "needs_background": "light"
     },
     "output_type": "display_data"
    }
   ],
   "source": [
    "plt.loglog(pinhole_resolution.q, theory, label='unsmeared')\n",
    "plt.loglog(pinhole_resolution.q, Iq_pinhole, label='pinhole_smeared')\n",
    "plt.loglog(generic_resolution.q, Iq_generic, label='generic_smeared')\n",
    "\n",
    "plt.legend()\n",
    "plt.xlabel(\"Q (1/Ang)\")\n",
    "plt.ylabel(\"I(Q) (1/cm)\")"
   ]
  },
  {
   "cell_type": "code",
   "execution_count": null,
   "id": "a88b910a-d2a8-4186-8b2a-37aaa8e2b6dd",
   "metadata": {},
   "outputs": [],
   "source": []
  }
 ],
 "metadata": {
  "kernelspec": {
   "display_name": "Python 3 (ipykernel)",
   "language": "python",
   "name": "python3"
  },
  "language_info": {
   "codemirror_mode": {
    "name": "ipython",
    "version": 3
   },
   "file_extension": ".py",
   "mimetype": "text/x-python",
   "name": "python",
   "nbconvert_exporter": "python",
   "pygments_lexer": "ipython3",
   "version": "3.8.11"
  }
 },
 "nbformat": 4,
 "nbformat_minor": 5
}
